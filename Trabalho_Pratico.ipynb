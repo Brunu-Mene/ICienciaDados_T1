{
 "cells": [
  {
   "cell_type": "markdown",
   "metadata": {},
   "source": [
    "## Importando Bibliotecas"
   ]
  },
  {
   "cell_type": "code",
   "execution_count": 3,
   "metadata": {},
   "outputs": [],
   "source": [
    "import pandas as pd\n",
    "import numpy as np"
   ]
  },
  {
   "cell_type": "markdown",
   "metadata": {},
   "source": [
    "## Importando base de dados"
   ]
  },
  {
   "cell_type": "code",
   "execution_count": 6,
   "metadata": {},
   "outputs": [
    {
     "name": "stdout",
     "output_type": "stream",
     "text": [
      "                                 name       genre  \\\n",
      "0       Oscar et la dame rose (2009)       drama    \n",
      "1                       Cupid (1997)    thriller    \n",
      "2   Young, Wild and Wonderful (1980)       adult    \n",
      "3              The Secret Sin (1915)       drama    \n",
      "4             The Unrecovered (2007)       drama    \n",
      "\n",
      "                                         description  \n",
      "0   Listening in to a conversation between his do...  \n",
      "1   A brother and sister with a past incestuous r...  \n",
      "2   As the bus empties the students for their fie...  \n",
      "3   To help their unemployed father make ends mee...  \n",
      "4   The film's title refers not only to the un-re...  \n"
     ]
    }
   ],
   "source": [
    "#load data from txt file with no head witch the data is splot by :::\n",
    "data = pd.read_csv('Classification_Dataset/train_data.txt', sep=':::', engine='python',header=None)\n",
    "#remove index \n",
    "data = data.drop([0], axis=1)\n",
    "#set dataframe head \n",
    "data.columns = ['name', 'genre','description']"
   ]
  },
  {
   "cell_type": "markdown",
   "metadata": {},
   "source": [
    "## ETL"
   ]
  },
  {
   "cell_type": "code",
   "execution_count": 7,
   "metadata": {},
   "outputs": [],
   "source": [
    "#removing whitespaces from the start and end of the colum \"genre\"\n",
    "data['genre'] = data['genre'].str.strip()"
   ]
  },
  {
   "cell_type": "code",
   "execution_count": 8,
   "metadata": {},
   "outputs": [
    {
     "name": "stdout",
     "output_type": "stream",
     "text": [
      "before filtering genres:  54214\n",
      "after filtering genres:  29894\n"
     ]
    }
   ],
   "source": [
    "print(\"before filtering genres: \",len(data))\n",
    "filter_list = ['drama', 'comedy', 'horror', 'thriller', 'action', 'mystery', 'sci-fi', 'fantasy', 'western', 'romance', 'music']\n",
    "data = data[data['genre'].isin(filter_list)]\n",
    "print(\"after filtering genres: \",len(data))"
   ]
  },
  {
   "cell_type": "markdown",
   "metadata": {},
   "source": [
    "Vamo ver se a gente vai usar isso, talvez tentar primeiro sem:"
   ]
  },
  {
   "cell_type": "code",
   "execution_count": 9,
   "metadata": {},
   "outputs": [],
   "source": [
    "#creating a \"super-genre\" out of \"horror\", \"thriller\" and \"mystery\" \n",
    "data['genre'] = data['genre'].replace(['horror', 'thriller', 'mystery'], 'h-t-m')\n",
    "\n",
    "#creating a \"super-genre\" out of \"sci-fi\" and \"fantasy\"\n",
    "data['genre'] = data['genre'].replace(['sci-fi', 'fantasy'], 's-f')"
   ]
  },
  {
   "cell_type": "markdown",
   "metadata": {},
   "source": [
    "## EDA"
   ]
  },
  {
   "cell_type": "code",
   "execution_count": 10,
   "metadata": {},
   "outputs": [
    {
     "ename": "ImportError",
     "evalue": "matplotlib is required for plotting when the default backend \"matplotlib\" is selected.",
     "output_type": "error",
     "traceback": [
      "\u001b[0;31m---------------------------------------------------------------------------\u001b[0m",
      "\u001b[0;31mImportError\u001b[0m                               Traceback (most recent call last)",
      "Cell \u001b[0;32mIn[10], line 2\u001b[0m\n\u001b[1;32m      1\u001b[0m \u001b[39m#ploting the number of movies in each genre\u001b[39;00m\n\u001b[0;32m----> 2\u001b[0m data[\u001b[39m'\u001b[39;49m\u001b[39mgenre\u001b[39;49m\u001b[39m'\u001b[39;49m]\u001b[39m.\u001b[39;49mvalue_counts()\u001b[39m.\u001b[39;49mplot(kind\u001b[39m=\u001b[39;49m\u001b[39m'\u001b[39;49m\u001b[39mbar\u001b[39;49m\u001b[39m'\u001b[39;49m, title\u001b[39m=\u001b[39;49m\u001b[39m'\u001b[39;49m\u001b[39mNumber of movies in each genre\u001b[39;49m\u001b[39m'\u001b[39;49m)\n",
      "File \u001b[0;32m~/.local/lib/python3.8/site-packages/pandas/plotting/_core.py:920\u001b[0m, in \u001b[0;36mPlotAccessor.__call__\u001b[0;34m(self, *args, **kwargs)\u001b[0m\n\u001b[1;32m    919\u001b[0m \u001b[39mdef\u001b[39;00m \u001b[39m__call__\u001b[39m(\u001b[39mself\u001b[39m, \u001b[39m*\u001b[39margs, \u001b[39m*\u001b[39m\u001b[39m*\u001b[39mkwargs):\n\u001b[0;32m--> 920\u001b[0m     plot_backend \u001b[39m=\u001b[39m _get_plot_backend(kwargs\u001b[39m.\u001b[39;49mpop(\u001b[39m\"\u001b[39;49m\u001b[39mbackend\u001b[39;49m\u001b[39m\"\u001b[39;49m, \u001b[39mNone\u001b[39;49;00m))\n\u001b[1;32m    922\u001b[0m     x, y, kind, kwargs \u001b[39m=\u001b[39m \u001b[39mself\u001b[39m\u001b[39m.\u001b[39m_get_call_args(\n\u001b[1;32m    923\u001b[0m         plot_backend\u001b[39m.\u001b[39m\u001b[39m__name__\u001b[39m, \u001b[39mself\u001b[39m\u001b[39m.\u001b[39m_parent, args, kwargs\n\u001b[1;32m    924\u001b[0m     )\n\u001b[1;32m    926\u001b[0m     kind \u001b[39m=\u001b[39m \u001b[39mself\u001b[39m\u001b[39m.\u001b[39m_kind_aliases\u001b[39m.\u001b[39mget(kind, kind)\n",
      "File \u001b[0;32m~/.local/lib/python3.8/site-packages/pandas/plotting/_core.py:1898\u001b[0m, in \u001b[0;36m_get_plot_backend\u001b[0;34m(backend)\u001b[0m\n\u001b[1;32m   1895\u001b[0m \u001b[39mif\u001b[39;00m backend_str \u001b[39min\u001b[39;00m _backends:\n\u001b[1;32m   1896\u001b[0m     \u001b[39mreturn\u001b[39;00m _backends[backend_str]\n\u001b[0;32m-> 1898\u001b[0m module \u001b[39m=\u001b[39m _load_backend(backend_str)\n\u001b[1;32m   1899\u001b[0m _backends[backend_str] \u001b[39m=\u001b[39m module\n\u001b[1;32m   1900\u001b[0m \u001b[39mreturn\u001b[39;00m module\n",
      "File \u001b[0;32m~/.local/lib/python3.8/site-packages/pandas/plotting/_core.py:1829\u001b[0m, in \u001b[0;36m_load_backend\u001b[0;34m(backend)\u001b[0m\n\u001b[1;32m   1827\u001b[0m         module \u001b[39m=\u001b[39m importlib\u001b[39m.\u001b[39mimport_module(\u001b[39m\"\u001b[39m\u001b[39mpandas.plotting._matplotlib\u001b[39m\u001b[39m\"\u001b[39m)\n\u001b[1;32m   1828\u001b[0m     \u001b[39mexcept\u001b[39;00m \u001b[39mImportError\u001b[39;00m:\n\u001b[0;32m-> 1829\u001b[0m         \u001b[39mraise\u001b[39;00m \u001b[39mImportError\u001b[39;00m(\n\u001b[1;32m   1830\u001b[0m             \u001b[39m\"\u001b[39m\u001b[39mmatplotlib is required for plotting when the \u001b[39m\u001b[39m\"\u001b[39m\n\u001b[1;32m   1831\u001b[0m             \u001b[39m'\u001b[39m\u001b[39mdefault backend \u001b[39m\u001b[39m\"\u001b[39m\u001b[39mmatplotlib\u001b[39m\u001b[39m\"\u001b[39m\u001b[39m is selected.\u001b[39m\u001b[39m'\u001b[39m\n\u001b[1;32m   1832\u001b[0m         ) \u001b[39mfrom\u001b[39;00m \u001b[39mNone\u001b[39m\n\u001b[1;32m   1833\u001b[0m     \u001b[39mreturn\u001b[39;00m module\n\u001b[1;32m   1835\u001b[0m found_backend \u001b[39m=\u001b[39m \u001b[39mFalse\u001b[39;00m\n",
      "\u001b[0;31mImportError\u001b[0m: matplotlib is required for plotting when the default backend \"matplotlib\" is selected."
     ]
    }
   ],
   "source": [
    "#ploting the number of movies in each genre\n",
    "data['genre'].value_counts().plot(kind='bar', title='Number of movies in each genre')"
   ]
  }
 ],
 "metadata": {
  "kernelspec": {
   "display_name": "Python 3.8.10 64-bit",
   "language": "python",
   "name": "python3"
  },
  "language_info": {
   "codemirror_mode": {
    "name": "ipython",
    "version": 3
   },
   "file_extension": ".py",
   "mimetype": "text/x-python",
   "name": "python",
   "nbconvert_exporter": "python",
   "pygments_lexer": "ipython3",
   "version": "3.8.10"
  },
  "orig_nbformat": 4,
  "vscode": {
   "interpreter": {
    "hash": "916dbcbb3f70747c44a77c7bcd40155683ae19c65e1c03b4aa3499c5328201f1"
   }
  }
 },
 "nbformat": 4,
 "nbformat_minor": 2
}
