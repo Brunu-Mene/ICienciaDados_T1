{
  "nbformat": 4,
  "nbformat_minor": 0,
  "metadata": {
    "colab": {
      "provenance": []
    },
    "kernelspec": {
      "name": "python3",
      "display_name": "Python 3"
    },
    "language_info": {
      "name": "python"
    }
  },
  "cells": [
    {
      "cell_type": "markdown",
      "source": [
        "### Importando Bibliotecas"
      ],
      "metadata": {
        "id": "mH2ArKHh707A"
      }
    },
    {
      "cell_type": "code",
      "execution_count": 4,
      "metadata": {
        "id": "365HVw3G7vBV",
        "colab": {
          "base_uri": "https://localhost:8080/"
        },
        "outputId": "a64a5bc8-12be-4a55-a219-6a345e4843e2"
      },
      "outputs": [
        {
          "output_type": "stream",
          "name": "stdout",
          "text": [
            "Mounted at /content/gdrive\n"
          ]
        }
      ],
      "source": [
        "import pandas as pd\n",
        "import numpy as np\n",
        "import matplotlib.pyplot as plt\n",
        "import pickle\n",
        "from google.colab import drive\n",
        "drive.mount('/content/gdrive')"
      ]
    },
    {
      "cell_type": "markdown",
      "source": [
        "### Importando Base de Dados"
      ],
      "metadata": {
        "id": "XWg32LHy79uV"
      }
    },
    {
      "cell_type": "code",
      "source": [
        "#load data from txt file with no head witch the data is splot by :::\n",
        "trainData = pd.read_table('/content/gdrive/MyDrive/Genre_Classification_Dataset/train_data.txt', sep=':::', engine='python',header=None)\n",
        "testData = pd.read_table('/content/gdrive/MyDrive/Genre_Classification_Dataset/test_data_solution.txt', sep=':::', engine='python',header=None)\n",
        "#combing dataset's\n",
        "data = trainData.append(testData)\n",
        "#remove index\n",
        "data = data.drop([0], axis=1)\n",
        "#set dataframe head \n",
        "data.columns = ['name', 'genre','description']"
      ],
      "metadata": {
        "id": "I1xLbeBf78Xh"
      },
      "execution_count": 5,
      "outputs": []
    },
    {
      "cell_type": "markdown",
      "source": [
        "### ETL"
      ],
      "metadata": {
        "id": "uJdDEVoZ8Cas"
      }
    },
    {
      "cell_type": "code",
      "source": [
        "#removing whitespaces from the start and end of the colum \"genre\"\n",
        "data['genre'] = data['genre'].str.strip()"
      ],
      "metadata": {
        "id": "1swhbqFF8D0M"
      },
      "execution_count": 6,
      "outputs": []
    },
    {
      "cell_type": "code",
      "source": [
        "print(\"before filtering genres: \",len(data))\n",
        "filter_list = ['drama', 'comedy', 'horror', 'thriller', 'action', 'mystery', 'sci-fi', 'fantasy', 'western', 'romance', 'music']\n",
        "data = data[data['genre'].isin(filter_list)]\n",
        "print(\"after filtering genres: \",len(data))"
      ],
      "metadata": {
        "colab": {
          "base_uri": "https://localhost:8080/"
        },
        "id": "3-7uUBUj8E_6",
        "outputId": "330304c1-b33b-4bb0-b45a-635b565d9bf1"
      },
      "execution_count": 7,
      "outputs": [
        {
          "output_type": "stream",
          "name": "stdout",
          "text": [
            "before filtering genres:  108414\n",
            "after filtering genres:  59781\n"
          ]
        }
      ]
    },
    {
      "cell_type": "markdown",
      "source": [
        "Vamo ver se a gente vai usar isso, talvez tentar primeiro sem:"
      ],
      "metadata": {
        "id": "BGDKLH9L8IBO"
      }
    },
    {
      "cell_type": "code",
      "source": [
        "#creating a \"super-genre\" out of \"horror\", \"thriller\" and \"mystery\" \n",
        "data['genre'] = data['genre'].replace(['horror', 'thriller', 'mystery'], 'h-t-m')\n",
        "\n",
        "#creating a \"super-genre\" out of \"sci-fi\" and \"fantasy\"\n",
        "data['genre'] = data['genre'].replace(['sci-fi', 'fantasy'], 's-f')\n",
        "\n",
        "#reindex data\n",
        "data = data.reset_index(drop=True)"
      ],
      "metadata": {
        "id": "vJ6BIovK8JfN"
      },
      "execution_count": 8,
      "outputs": []
    },
    {
      "cell_type": "code",
      "source": [
        "#removendo possiveis valores nulos de descrição\n",
        "data = data[data['description'].notna()]"
      ],
      "metadata": {
        "id": "hSruj3ZfdmK2"
      },
      "execution_count": 9,
      "outputs": []
    },
    {
      "cell_type": "markdown",
      "source": [
        "### EDA"
      ],
      "metadata": {
        "id": "mRjB9ps78LHc"
      }
    },
    {
      "cell_type": "code",
      "source": [
        "#ploting the number of movies in each genre\n",
        "data['genre'].value_counts().plot(kind='bar', title='Number of movies in each genre')"
      ],
      "metadata": {
        "colab": {
          "base_uri": "https://localhost:8080/",
          "height": 332
        },
        "id": "RUxn9TQZ8Na0",
        "outputId": "a7a4421a-1292-4011-c6df-6491d570c80e"
      },
      "execution_count": 10,
      "outputs": [
        {
          "output_type": "execute_result",
          "data": {
            "text/plain": [
              "<matplotlib.axes._subplots.AxesSubplot at 0x7fb7b6eedca0>"
            ]
          },
          "metadata": {},
          "execution_count": 10
        },
        {
          "output_type": "display_data",
          "data": {
            "text/plain": [
              "<Figure size 432x288 with 1 Axes>"
            ],
            "image/png": "[encoded data removed]"
          },
          "metadata": {
            "needs_background": "light"
          }
        }
      ]
    },
    {
      "cell_type": "markdown",
      "source": [
        "### Construção da Matriz TF-IDF"
      ],
      "metadata": {
        "id": "1OYATdDo8PCl"
      }
    },
    {
      "cell_type": "code",
      "source": [
        "!pip install unidecode"
      ],
      "metadata": {
        "colab": {
          "base_uri": "https://localhost:8080/"
        },
        "id": "Jua4uSJ19Jqy",
        "outputId": "0a47aed3-f2f4-41e0-edf5-b0450b831b6d"
      },
      "execution_count": 11,
      "outputs": [
        {
          "output_type": "stream",
          "name": "stdout",
          "text": [
            "Looking in indexes: https://pypi.org/simple, https://us-python.pkg.dev/colab-wheels/public/simple/\n",
            "Collecting unidecode\n",
            "  Downloading Unidecode-1.3.6-py3-none-any.whl (235 kB)\n",
            "\u001b[K     |████████████████████████████████| 235 kB 5.1 MB/s \n",
            "\u001b[?25hInstalling collected packages: unidecode\n",
            "Successfully installed unidecode-1.3.6\n"
          ]
        }
      ]
    },
    {
      "cell_type": "code",
      "source": [
        "import nltk\n",
        "from nltk import word_tokenize\n",
        "import string\n",
        "import unidecode\n",
        "from nltk.corpus import stopwords\n",
        "from nltk.stem.porter import PorterStemmer\n",
        "nltk.download('stopwords')\n",
        "nltk.download('punkt')\n",
        "\n",
        "\n",
        "listStringTerms = []\n",
        "\n",
        "\n",
        "def criandoLinha(descrição):\n",
        "    #capturando tokens da descrição\n",
        "    tokens = word_tokenize(descrição)\n",
        "    #normalizando para minúsculo\n",
        "    tokens = [w.lower() for w in tokens]\n",
        "\n",
        "    #removendo simbolos de pontuação\n",
        "    table = str.maketrans('', '', string.punctuation)\n",
        "    tokens = [w.translate(table) for w in tokens]\n",
        "\n",
        "    #tratando caracteres especiais\n",
        "    tokens = [unidecode.unidecode(w) for w in tokens]\n",
        "\n",
        "    #selecionando apenas palavras\n",
        "    words = [word for word in tokens if word.isalpha()]\n",
        "\n",
        "    #removendo palavras com 3 ou menos caracteres\n",
        "    words = [word for word in words if len(word) > 3]\n",
        "\n",
        "\n",
        "\n",
        "    #removendo palavras vazias\n",
        "    stop_words = set(stopwords.words('english'))\n",
        "    words = [word for word in words if not word in stop_words]\n",
        "\n",
        "     # Create n-grams\n",
        "\n",
        "\n",
        "    #redução de palavras\n",
        "    porter = PorterStemmer()\n",
        "    stemmedWords = [porter.stem(word) for word in words] \n",
        "\n",
        "    n = 2\n",
        "    ngrams = []\n",
        "    for i in range(len(words)-n+1):\n",
        "        ngram = \" \".join(words[i:i+n])\n",
        "        ngrams.append(ngram)\n",
        "\n",
        "    #transformando lista de stemmedWords em uma string\n",
        "    stringTerms = ' '.join(stemmedWords)\n",
        "\n",
        "\n",
        "\n",
        "    return stringTerms"
      ],
      "metadata": {
        "colab": {
          "base_uri": "https://localhost:8080/"
        },
        "id": "caZ4fuK08PnD",
        "outputId": "191e2080-23f0-466e-f37a-7fc3caca2699"
      },
      "execution_count": 12,
      "outputs": [
        {
          "output_type": "stream",
          "name": "stderr",
          "text": [
            "[nltk_data] Downloading package stopwords to /root/nltk_data...\n",
            "[nltk_data]   Unzipping corpora/stopwords.zip.\n",
            "[nltk_data] Downloading package punkt to /root/nltk_data...\n",
            "[nltk_data]   Unzipping tokenizers/punkt.zip.\n"
          ]
        }
      ]
    },
    {
      "cell_type": "code",
      "source": [
        "#criando a lista de strings de termos\n",
        "listStringTerms = data['description'].apply(criandoLinha)"
      ],
      "metadata": {
        "id": "mzfS__fN8U9a"
      },
      "execution_count": 13,
      "outputs": []
    },
    {
      "cell_type": "code",
      "source": [
        "##construindo matriz TF-IDF\n",
        "from sklearn.feature_extraction.text import TfidfVectorizer\n",
        "vectorizer = TfidfVectorizer(min_df = 5)\n",
        "X = vectorizer.fit_transform(listStringTerms)\n",
        "X"
      ],
      "metadata": {
        "id": "hhWFq7JUcjZb",
        "colab": {
          "base_uri": "https://localhost:8080/"
        },
        "outputId": "b0ed3c8a-66c7-4700-96a1-7847349fd8de"
      },
      "execution_count": 14,
      "outputs": [
        {
          "output_type": "execute_result",
          "data": {
            "text/plain": [
              "<59781x20988 sparse matrix of type '<class 'numpy.float64'>'\n",
              "\twith 2492125 stored elements in Compressed Sparse Row format>"
            ]
          },
          "metadata": {},
          "execution_count": 14
        }
      ]
    },
    {
      "cell_type": "code",
      "source": [
        "from sklearn.decomposition import TruncatedSVD\n",
        "svd = TruncatedSVD(n_components=100, random_state=3)\n",
        "X_svd = svd.fit_transform(X)"
      ],
      "metadata": {
        "id": "UzyfrEYad3Z8"
      },
      "execution_count": 15,
      "outputs": []
    },
    {
      "cell_type": "code",
      "source": [
        "svd.explained_variance_ratio_.sum()"
      ],
      "metadata": {
        "colab": {
          "base_uri": "https://localhost:8080/"
        },
        "id": "3X9fsog-d4T6",
        "outputId": "a1574930-cf92-4114-b581-111b9f4f9e5e"
      },
      "execution_count": 16,
      "outputs": [
        {
          "output_type": "execute_result",
          "data": {
            "text/plain": [
              "0.09721954036487686"
            ]
          },
          "metadata": {},
          "execution_count": 16
        }
      ]
    },
    {
      "cell_type": "code",
      "source": [
        "#plot k rank vs explained variance\n",
        "plt.plot(svd.explained_variance_ratio_.cumsum())\n",
        "plt.xlabel('k')\n",
        "plt.ylabel('explained variance')\n",
        "plt.title('k rank vs explained variance')\n",
        "plt.show()\n"
      ],
      "metadata": {
        "colab": {
          "base_uri": "https://localhost:8080/",
          "height": 295
        },
        "id": "F4cELcTHd5Xu",
        "outputId": "153850a0-9bcc-4f4f-c023-e9c81bbd5d0d"
      },
      "execution_count": 17,
      "outputs": [
        {
          "output_type": "display_data",
          "data": {
            "text/plain": [
              "<Figure size 432x288 with 1 Axes>"
            ],
            "image/png": "[encoded data removed]"
          },
          "metadata": {
            "needs_background": "light"
          }
        }
      ]
    },
    {
      "cell_type": "markdown",
      "source": [
        "### Agrupamento"
      ],
      "metadata": {
        "id": "I5OYdBEnd7Rc"
      }
    },
    {
      "cell_type": "code",
      "source": [
        "#k means classifier for X_svd\n",
        "from sklearn.cluster import KMeans\n",
        "kmeans = KMeans(n_clusters=3, random_state=45).fit(X_svd)\n",
        "y_kmeans = kmeans.predict(X_svd)\n",
        "\n",
        "#ploting the number of movies in each genre\n",
        "pd.Series(y_kmeans).value_counts().plot(kind='bar', title='Number of movies in each genre')"
      ],
      "metadata": {
        "colab": {
          "base_uri": "https://localhost:8080/",
          "height": 295
        },
        "id": "CrVlfFw7d-OS",
        "outputId": "7c96d656-9547-440c-f0e1-baed8decadfb"
      },
      "execution_count": 18,
      "outputs": [
        {
          "output_type": "execute_result",
          "data": {
            "text/plain": [
              "<matplotlib.axes._subplots.AxesSubplot at 0x7fb7a810a9a0>"
            ]
          },
          "metadata": {},
          "execution_count": 18
        },
        {
          "output_type": "display_data",
          "data": {
            "text/plain": [
              "<Figure size 432x288 with 1 Axes>"
            ],
            "image/png": "[encoded data removed]"
          },
          "metadata": {
            "needs_background": "light"
          }
        }
      ]
    },
    {
      "cell_type": "code",
      "source": [
        "#create a dataframe with y_kmeans\n",
        "y_kmeans_df = pd.DataFrame(y_kmeans, columns=['genre'])\n",
        "values_counts = pd.Series(y_kmeans).value_counts()\n",
        "values_counts"
      ],
      "metadata": {
        "colab": {
          "base_uri": "https://localhost:8080/"
        },
        "id": "nj24jgk9eZyu",
        "outputId": "6f35b193-9959-428d-804b-9a9f497934d8"
      },
      "execution_count": 19,
      "outputs": [
        {
          "output_type": "execute_result",
          "data": {
            "text/plain": [
              "2    32502\n",
              "0    18949\n",
              "1     8330\n",
              "dtype: int64"
            ]
          },
          "metadata": {},
          "execution_count": 19
        }
      ]
    },
    {
      "cell_type": "code",
      "source": [
        "totalMovies = data['genre'].value_counts()\n",
        "\n",
        "grupoZero = y_kmeans_df[y_kmeans_df['genre'] == 0]\n",
        "grupoUm = y_kmeans_df[y_kmeans_df['genre'] == 1]\n",
        "grupoDois = y_kmeans_df[y_kmeans_df['genre'] == 2]"
      ],
      "metadata": {
        "id": "c5FC_SjNTuak"
      },
      "execution_count": 20,
      "outputs": []
    },
    {
      "cell_type": "code",
      "source": [
        "def genreByGroup(grupo, listTotalMovie, data):\n",
        "  listCont = [0,0,0,0,0,0,0,0]\n",
        "  genreList = ['drama', 'comedy','h-t-m','action','s-f','western','romance','music']\n",
        "\n",
        "  for row in grupo.index:\n",
        "      genreGroup = data.loc[row]['genre']\n",
        "      for i in range(0,len(genreList)):\n",
        "        if genreList[i] == genreGroup:\n",
        "          listCont[i] += 1\n",
        "\n",
        "  # Tentando normalizar, ta certo isso?\n",
        "  for i in range(0,8):\n",
        "    listCont[i] = listCont[i]/listTotalMovie[genreList[i]]\n",
        "\n",
        "  plt.bar(genreList,listCont,width = 0.8)\n",
        "  plt.show()"
      ],
      "metadata": {
        "id": "4eYGGINqHGA3"
      },
      "execution_count": 21,
      "outputs": []
    },
    {
      "cell_type": "code",
      "source": [
        "genreByGroup(grupoZero,totalMovies,data)"
      ],
      "metadata": {
        "colab": {
          "base_uri": "https://localhost:8080/",
          "height": 265
        },
        "id": "R1j2N_l1RvG1",
        "outputId": "1a01f662-0555-40dd-92ed-373c7c7fb808"
      },
      "execution_count": 22,
      "outputs": [
        {
          "output_type": "display_data",
          "data": {
            "text/plain": [
              "<Figure size 432x288 with 1 Axes>"
            ],
            "image/png": "[encoded data removed]"
          },
          "metadata": {
            "needs_background": "light"
          }
        }
      ]
    },
    {
      "cell_type": "code",
      "source": [
        "genreByGroup(grupoUm,totalMovies,data)"
      ],
      "metadata": {
        "colab": {
          "base_uri": "https://localhost:8080/",
          "height": 265
        },
        "id": "KNQi3PXVTC7Z",
        "outputId": "4958986a-02d6-47cd-8b8d-56bef78cc5e4"
      },
      "execution_count": 23,
      "outputs": [
        {
          "output_type": "display_data",
          "data": {
            "text/plain": [
              "<Figure size 432x288 with 1 Axes>"
            ],
            "image/png": "[encoded data removed]"
          },
          "metadata": {
            "needs_background": "light"
          }
        }
      ]
    },
    {
      "cell_type": "code",
      "source": [
        "genreByGroup(grupoDois,totalMovies,data)"
      ],
      "metadata": {
        "colab": {
          "base_uri": "https://localhost:8080/",
          "height": 265
        },
        "id": "KH9-geOfPrpj",
        "outputId": "9b58b6ee-0553-4d8e-ee45-0a8a37cfa9d8"
      },
      "execution_count": 24,
      "outputs": [
        {
          "output_type": "display_data",
          "data": {
            "text/plain": [
              "<Figure size 432x288 with 1 Axes>"
            ],
            "image/png": "[encoded data removed]"
          },
          "metadata": {
            "needs_background": "light"
          }
        }
      ]
    },
    {
      "cell_type": "code",
      "source": [
        "newDf = data.loc[grupoDois.index.tolist()]\n",
        "# newTotal = newDf['genre'].value_counts()\n",
        "\n",
        "NEW_X_svd = X_svd[newDf.index]\n",
        "\n",
        "newDf = newDf.reset_index(drop=True)\n",
        "newDf.head(11)"
      ],
      "metadata": {
        "colab": {
          "base_uri": "https://localhost:8080/",
          "height": 394
        },
        "id": "1GcSgfXKYeJH",
        "outputId": "42ad1bea-3bee-4c2d-b1b9-76e2795e4d5f"
      },
      "execution_count": 30,
      "outputs": [
        {
          "output_type": "execute_result",
          "data": {
            "text/plain": [
              "                                   name   genre  \\\n",
              "0                         Cupid (1997)    h-t-m   \n",
              "1                   \"Pink Slip\" (2009)   comedy   \n",
              "2                     Spirits (2014/I)    h-t-m   \n",
              "3                   Interrabang (1969)    h-t-m   \n",
              "4                 Babylon Vista (2001)   comedy   \n",
              "5             O Signo das Tetas (2016)    drama   \n",
              "6                   Söderpojkar (1941)   comedy   \n",
              "7                 The Sandman (????/I)      s-f   \n",
              "8    The Day Mars Invaded Earth (1963)      s-f   \n",
              "9                  The Blue Boy (1994)    h-t-m   \n",
              "10                   Love Bites (2018)    h-t-m   \n",
              "\n",
              "                                          description  \n",
              "0    A brother and sister with a past incestuous r...  \n",
              "1    In tough economic times Max and Joey have all...  \n",
              "2    Four high school students embark on a terrify...  \n",
              "3    A photographer is sailing with his wife, her ...  \n",
              "4    Frankie Reno was a child star on a TV show. B...  \n",
              "5    The Road of Milk narrates in existential dram...  \n",
              "6    A gang of unemployed itinerant musicians play...  \n",
              "7    A wizard attempting to capture Death to barga...  \n",
              "8    The Martians are actually protecting themselv...  \n",
              "9    Marie is an insecure housewife whose husband,...  \n",
              "10   Hollywood has long since been a haven for vam...  "
            ],
            "text/html": [
              "\n",
              "  <div id=\"df-92441c36-107f-4d91-a31f-6c4f8c82ff67\">\n",
              "    <div class=\"colab-df-container\">\n",
              "      <div>\n",
              "<style scoped>\n",
              "    .dataframe tbody tr th:only-of-type {\n",
              "        vertical-align: middle;\n",
              "    }\n",
              "\n",
              "    .dataframe tbody tr th {\n",
              "        vertical-align: top;\n",
              "    }\n",
              "\n",
              "    .dataframe thead th {\n",
              "        text-align: right;\n",
              "    }\n",
              "</style>\n",
              "<table border=\"1\" class=\"dataframe\">\n",
              "  <thead>\n",
              "    <tr style=\"text-align: right;\">\n",
              "      <th></th>\n",
              "      <th>name</th>\n",
              "      <th>genre</th>\n",
              "      <th>description</th>\n",
              "    </tr>\n",
              "  </thead>\n",
              "  <tbody>\n",
              "    <tr>\n",
              "      <th>0</th>\n",
              "      <td>Cupid (1997)</td>\n",
              "      <td>h-t-m</td>\n",
              "      <td>A brother and sister with a past incestuous r...</td>\n",
              "    </tr>\n",
              "    <tr>\n",
              "      <th>1</th>\n",
              "      <td>\"Pink Slip\" (2009)</td>\n",
              "      <td>comedy</td>\n",
              "      <td>In tough economic times Max and Joey have all...</td>\n",
              "    </tr>\n",
              "    <tr>\n",
              "      <th>2</th>\n",
              "      <td>Spirits (2014/I)</td>\n",
              "      <td>h-t-m</td>\n",
              "      <td>Four high school students embark on a terrify...</td>\n",
              "    </tr>\n",
              "    <tr>\n",
              "      <th>3</th>\n",
              "      <td>Interrabang (1969)</td>\n",
              "      <td>h-t-m</td>\n",
              "      <td>A photographer is sailing with his wife, her ...</td>\n",
              "    </tr>\n",
              "    <tr>\n",
              "      <th>4</th>\n",
              "      <td>Babylon Vista (2001)</td>\n",
              "      <td>comedy</td>\n",
              "      <td>Frankie Reno was a child star on a TV show. B...</td>\n",
              "    </tr>\n",
              "    <tr>\n",
              "      <th>5</th>\n",
              "      <td>O Signo das Tetas (2016)</td>\n",
              "      <td>drama</td>\n",
              "      <td>The Road of Milk narrates in existential dram...</td>\n",
              "    </tr>\n",
              "    <tr>\n",
              "      <th>6</th>\n",
              "      <td>Söderpojkar (1941)</td>\n",
              "      <td>comedy</td>\n",
              "      <td>A gang of unemployed itinerant musicians play...</td>\n",
              "    </tr>\n",
              "    <tr>\n",
              "      <th>7</th>\n",
              "      <td>The Sandman (????/I)</td>\n",
              "      <td>s-f</td>\n",
              "      <td>A wizard attempting to capture Death to barga...</td>\n",
              "    </tr>\n",
              "    <tr>\n",
              "      <th>8</th>\n",
              "      <td>The Day Mars Invaded Earth (1963)</td>\n",
              "      <td>s-f</td>\n",
              "      <td>The Martians are actually protecting themselv...</td>\n",
              "    </tr>\n",
              "    <tr>\n",
              "      <th>9</th>\n",
              "      <td>The Blue Boy (1994)</td>\n",
              "      <td>h-t-m</td>\n",
              "      <td>Marie is an insecure housewife whose husband,...</td>\n",
              "    </tr>\n",
              "    <tr>\n",
              "      <th>10</th>\n",
              "      <td>Love Bites (2018)</td>\n",
              "      <td>h-t-m</td>\n",
              "      <td>Hollywood has long since been a haven for vam...</td>\n",
              "    </tr>\n",
              "  </tbody>\n",
              "</table>\n",
              "</div>\n",
              "      <button class=\"colab-df-convert\" onclick=\"convertToInteractive('df-92441c36-107f-4d91-a31f-6c4f8c82ff67')\"\n",
              "              title=\"Convert this dataframe to an interactive table.\"\n",
              "              style=\"display:none;\">\n",
              "        \n",
              "  <svg xmlns=\"http://www.w3.org/2000/svg\" height=\"24px\"viewBox=\"0 0 24 24\"\n",
              "       width=\"24px\">\n",
              "    <path d=\"M0 0h24v24H0V0z\" fill=\"none\"/>\n",
              "    <path d=\"M18.56 5.44l.94 2.06.94-2.06 2.06-.94-2.06-.94-.94-2.06-.94 2.06-2.06.94zm-11 1L8.5 8.5l.94-2.06 2.06-.94-2.06-.94L8.5 2.5l-.94 2.06-2.06.94zm10 10l.94 2.06.94-2.06 2.06-.94-2.06-.94-.94-2.06-.94 2.06-2.06.94z\"/><path d=\"M17.41 7.96l-1.37-1.37c-.4-.4-.92-.59-1.43-.59-.52 0-1.04.2-1.43.59L10.3 9.45l-7.72 7.72c-.78.78-.78 2.05 0 2.83L4 21.41c.39.39.9.59 1.41.59.51 0 1.02-.2 1.41-.59l7.78-7.78 2.81-2.81c.8-.78.8-2.07 0-2.86zM5.41 20L4 18.59l7.72-7.72 1.47 1.35L5.41 20z\"/>\n",
              "  </svg>\n",
              "      </button>\n",
              "      \n",
              "  <style>\n",
              "    .colab-df-container {\n",
              "      display:flex;\n",
              "      flex-wrap:wrap;\n",
              "      gap: 12px;\n",
              "    }\n",
              "\n",
              "    .colab-df-convert {\n",
              "      background-color: #E8F0FE;\n",
              "      border: none;\n",
              "      border-radius: 50%;\n",
              "      cursor: pointer;\n",
              "      display: none;\n",
              "      fill: #1967D2;\n",
              "      height: 32px;\n",
              "      padding: 0 0 0 0;\n",
              "      width: 32px;\n",
              "    }\n",
              "\n",
              "    .colab-df-convert:hover {\n",
              "      background-color: #E2EBFA;\n",
              "      box-shadow: 0px 1px 2px rgba(60, 64, 67, 0.3), 0px 1px 3px 1px rgba(60, 64, 67, 0.15);\n",
              "      fill: #174EA6;\n",
              "    }\n",
              "\n",
              "    [theme=dark] .colab-df-convert {\n",
              "      background-color: #3B4455;\n",
              "      fill: #D2E3FC;\n",
              "    }\n",
              "\n",
              "    [theme=dark] .colab-df-convert:hover {\n",
              "      background-color: #434B5C;\n",
              "      box-shadow: 0px 1px 3px 1px rgba(0, 0, 0, 0.15);\n",
              "      filter: drop-shadow(0px 1px 2px rgba(0, 0, 0, 0.3));\n",
              "      fill: #FFFFFF;\n",
              "    }\n",
              "  </style>\n",
              "\n",
              "      <script>\n",
              "        const buttonEl =\n",
              "          document.querySelector('#df-92441c36-107f-4d91-a31f-6c4f8c82ff67 button.colab-df-convert');\n",
              "        buttonEl.style.display =\n",
              "          google.colab.kernel.accessAllowed ? 'block' : 'none';\n",
              "\n",
              "        async function convertToInteractive(key) {\n",
              "          const element = document.querySelector('#df-92441c36-107f-4d91-a31f-6c4f8c82ff67');\n",
              "          const dataTable =\n",
              "            await google.colab.kernel.invokeFunction('convertToInteractive',\n",
              "                                                     [key], {});\n",
              "          if (!dataTable) return;\n",
              "\n",
              "          const docLinkHtml = 'Like what you see? Visit the ' +\n",
              "            '<a target=\"_blank\" href=https://colab.research.google.com/notebooks/data_table.ipynb>data table notebook</a>'\n",
              "            + ' to learn more about interactive tables.';\n",
              "          element.innerHTML = '';\n",
              "          dataTable['output_type'] = 'display_data';\n",
              "          await google.colab.output.renderOutput(dataTable, element);\n",
              "          const docLink = document.createElement('div');\n",
              "          docLink.innerHTML = docLinkHtml;\n",
              "          element.appendChild(docLink);\n",
              "        }\n",
              "      </script>\n",
              "    </div>\n",
              "  </div>\n",
              "  "
            ]
          },
          "metadata": {},
          "execution_count": 30
        }
      ]
    },
    {
      "cell_type": "code",
      "source": [
        "#k means classifier for new_Xsvd\n",
        "from sklearn.cluster import KMeans\n",
        "kmeans = KMeans(n_clusters=4, random_state=45).fit(NEW_X_svd)\n",
        "y_kmeans = kmeans.predict(NEW_X_svd)\n",
        "\n",
        "#ploting the number of movies in each genre\n",
        "pd.Series(y_kmeans).value_counts().plot(kind='bar', title='Number of movies in each genre')"
      ],
      "metadata": {
        "colab": {
          "base_uri": "https://localhost:8080/",
          "height": 295
        },
        "id": "51vGQ6HhKobA",
        "outputId": "ffec50a4-069f-4dea-f0a6-0757368db3bf"
      },
      "execution_count": 48,
      "outputs": [
        {
          "output_type": "execute_result",
          "data": {
            "text/plain": [
              "<matplotlib.axes._subplots.AxesSubplot at 0x7fb79f796190>"
            ]
          },
          "metadata": {},
          "execution_count": 48
        },
        {
          "output_type": "display_data",
          "data": {
            "text/plain": [
              "<Figure size 432x288 with 1 Axes>"
            ],
            "image/png": "[encoded data removed]"
          },
          "metadata": {
            "needs_background": "light"
          }
        }
      ]
    },
    {
      "cell_type": "code",
      "source": [
        "#create a dataframe with y_kmeans\n",
        "y_kmeans_df = pd.DataFrame(y_kmeans, columns=['genre'])\n",
        "values_counts = pd.Series(y_kmeans).value_counts()\n",
        "values_counts"
      ],
      "metadata": {
        "colab": {
          "base_uri": "https://localhost:8080/"
        },
        "id": "31epIZM1NKXZ",
        "outputId": "78e5c7c8-a4bc-47f9-fd51-67ee29a72ecd"
      },
      "execution_count": 49,
      "outputs": [
        {
          "output_type": "execute_result",
          "data": {
            "text/plain": [
              "3    25799\n",
              "1     3558\n",
              "0     1820\n",
              "2     1325\n",
              "dtype: int64"
            ]
          },
          "metadata": {},
          "execution_count": 49
        }
      ]
    },
    {
      "cell_type": "code",
      "source": [
        "NEWtotalMovies = newDf['genre'].value_counts()\n",
        "NEWgrupoZero = y_kmeans_df[y_kmeans_df['genre'] == 0]\n",
        "NEWgrupoUm = y_kmeans_df[y_kmeans_df['genre'] == 1]\n",
        "NEWgrupoDois = y_kmeans_df[y_kmeans_df['genre'] == 2]\n",
        "NEWgrupoTres = y_kmeans_df[y_kmeans_df['genre'] == 3]\n",
        "NEWtotalMovies"
      ],
      "metadata": {
        "colab": {
          "base_uri": "https://localhost:8080/"
        },
        "id": "2fveQ5ZGLZp9",
        "outputId": "d2abbe1d-3f91-40b7-d38b-2c05a9465db5"
      },
      "execution_count": 50,
      "outputs": [
        {
          "output_type": "execute_result",
          "data": {
            "text/plain": [
              "drama      11757\n",
              "comedy      8448\n",
              "h-t-m       6039\n",
              "action      2181\n",
              "western     1903\n",
              "s-f         1579\n",
              "romance      380\n",
              "music        215\n",
              "Name: genre, dtype: int64"
            ]
          },
          "metadata": {},
          "execution_count": 50
        }
      ]
    },
    {
      "cell_type": "code",
      "source": [
        "genreByGroup(NEWgrupoZero,NEWtotalMovies,newDf)"
      ],
      "metadata": {
        "colab": {
          "base_uri": "https://localhost:8080/",
          "height": 265
        },
        "id": "f6Qy1zk4LaKB",
        "outputId": "ecc60fe1-5735-41db-d2c3-e00cf41e25d7"
      },
      "execution_count": 51,
      "outputs": [
        {
          "output_type": "display_data",
          "data": {
            "text/plain": [
              "<Figure size 432x288 with 1 Axes>"
            ],
            "image/png": "[encoded data removed]"
          },
          "metadata": {
            "needs_background": "light"
          }
        }
      ]
    },
    {
      "cell_type": "code",
      "source": [
        "genreByGroup(NEWgrupoUm,NEWtotalMovies,newDf)"
      ],
      "metadata": {
        "colab": {
          "base_uri": "https://localhost:8080/",
          "height": 265
        },
        "id": "JecTkpP9LqXJ",
        "outputId": "423fe5e2-f5d2-433e-96d8-b3da44024141"
      },
      "execution_count": 52,
      "outputs": [
        {
          "output_type": "display_data",
          "data": {
            "text/plain": [
              "<Figure size 432x288 with 1 Axes>"
            ],
            "image/png": "[encoded data removed]"
          },
          "metadata": {
            "needs_background": "light"
          }
        }
      ]
    },
    {
      "cell_type": "code",
      "source": [
        "genreByGroup(NEWgrupoDois,NEWtotalMovies,newDf)"
      ],
      "metadata": {
        "colab": {
          "base_uri": "https://localhost:8080/",
          "height": 265
        },
        "id": "_6Ffx54uLqhM",
        "outputId": "54e19e76-f27c-498b-a043-9d1c227dab97"
      },
      "execution_count": 53,
      "outputs": [
        {
          "output_type": "display_data",
          "data": {
            "text/plain": [
              "<Figure size 432x288 with 1 Axes>"
            ],
            "image/png": "[encoded data removed]"
          },
          "metadata": {
            "needs_background": "light"
          }
        }
      ]
    },
    {
      "cell_type": "code",
      "source": [
        "genreByGroup(NEWgrupoTres,NEWtotalMovies,newDf)"
      ],
      "metadata": {
        "colab": {
          "base_uri": "https://localhost:8080/",
          "height": 267
        },
        "id": "dRa5IPC8UjWL",
        "outputId": "5dd942f6-52a7-4ee2-ed79-38cb404ccbdc"
      },
      "execution_count": 54,
      "outputs": [
        {
          "output_type": "display_data",
          "data": {
            "text/plain": [
              "<Figure size 432x288 with 1 Axes>"
            ],
            "image/png": "[encoded data removed]"
          },
          "metadata": {
            "needs_background": "light"
          }
        }
      ]
    },
    {
      "cell_type": "markdown",
      "source": [
        "### Agrupamento Hierárquico\n"
      ],
      "metadata": {
        "id": "UUJZwgaHqO_J"
      }
    },
    {
      "cell_type": "markdown",
      "source": [
        "########################################## TESTANDO BASE DE DADOS MENOR"
      ],
      "metadata": {
        "id": "2V9kF40ZpeuJ"
      }
    },
    {
      "cell_type": "code",
      "source": [
        "def reduzBaseDatos():\n",
        "  totalMovies = data['genre'].value_counts()\n",
        "  total = 0\n",
        "  listPesos = [0,0,0,0,0,0,0,0]\n",
        "  genreList = ['drama', 'comedy','h-t-m','action','s-f','western','romance','music']\n",
        "\n",
        "  for i in totalMovies:\n",
        "    total += i\n",
        "\n",
        "  for i in range(0,8):\n",
        "    listPesos[i] = data['genre'].value_counts()[genreList[i]]/total\n",
        "\n",
        "\n",
        "  newQtdMoviesByGeng = []\n",
        "  for i in range(0,8):\n",
        "    newQtdMoviesByGeng.append(round(5000*listPesos[i]))\n",
        "\n",
        "  listNewDf = []\n",
        "  for i in range(0,8):\n",
        "    df = data[data['genre'] == genreList[i]]\n",
        "    df = df.sample(newQtdMoviesByGeng[i])\n",
        "\n",
        "    listNewDf.append(df)\n",
        "\n",
        "  for i in range(1,len(listNewDf)):\n",
        "    listNewDf[0] = listNewDf[0].append(listNewDf[i])\n",
        "\n",
        "  newData = listNewDf[0]\n",
        "  newData = newData.reset_index(drop=True)\n",
        "  \n",
        "  return newData\n"
      ],
      "metadata": {
        "id": "WIwBQURAgRVy"
      },
      "execution_count": 121,
      "outputs": []
    },
    {
      "cell_type": "code",
      "source": [
        "newData = reduzBaseDatos()\n",
        "#criando a lista de strings de termos\n",
        "newListStringTerms = newData['description'].apply(criandoLinha)\n",
        "##construindo matriz TF-IDF\n",
        "from sklearn.feature_extraction.text import TfidfVectorizer\n",
        "newNectorizer = TfidfVectorizer(min_df = 5)\n",
        "newX = newNectorizer.fit_transform(newListStringTerms)\n",
        "newX"
      ],
      "metadata": {
        "colab": {
          "base_uri": "https://localhost:8080/"
        },
        "id": "NG_HyWWVo9ME",
        "outputId": "263aa9fe-91d2-413f-de0b-c3c18e8fb8a2"
      },
      "execution_count": 122,
      "outputs": [
        {
          "output_type": "execute_result",
          "data": {
            "text/plain": [
              "<5000x5406 sparse matrix of type '<class 'numpy.float64'>'\n",
              "\twith 190456 stored elements in Compressed Sparse Row format>"
            ]
          },
          "metadata": {},
          "execution_count": 122
        }
      ]
    },
    {
      "cell_type": "code",
      "source": [
        "from sklearn.decomposition import TruncatedSVD\n",
        "newSvd = TruncatedSVD(n_components=100, random_state=3)\n",
        "NEW_X_svd = newSvd.fit_transform(newX)"
      ],
      "metadata": {
        "id": "XIrFtZ94pvy4"
      },
      "execution_count": 123,
      "outputs": []
    },
    {
      "cell_type": "code",
      "source": [
        "newSvd.explained_variance_ratio_.sum()"
      ],
      "metadata": {
        "colab": {
          "base_uri": "https://localhost:8080/"
        },
        "id": "DgzGhJFOpsU7",
        "outputId": "56551055-64fa-482f-f7b9-9ef5a1dcf21d"
      },
      "execution_count": 124,
      "outputs": [
        {
          "output_type": "execute_result",
          "data": {
            "text/plain": [
              "0.1485517930342239"
            ]
          },
          "metadata": {},
          "execution_count": 124
        }
      ]
    },
    {
      "cell_type": "code",
      "source": [
        "import scipy.cluster.hierarchy as shc\n",
        "\n",
        "plt.figure(figsize =(9, 9))\n",
        "plt.title('Visualising the data')\n",
        "Dendrogram = shc.dendrogram((shc.linkage(NEW_X_svd, method ='ward')))"
      ],
      "metadata": {
        "colab": {
          "base_uri": "https://localhost:8080/",
          "height": 556
        },
        "id": "D8JeqwByqT7r",
        "outputId": "f740b0b4-e0c5-4e38-8c76-675c626d8eb3"
      },
      "execution_count": 125,
      "outputs": [
        {
          "output_type": "display_data",
          "data": {
            "text/plain": [
              "<Figure size 648x648 with 1 Axes>"
            ],
            "image/png": "[encoded data removed]"
          },
          "metadata": {
            "needs_background": "light"
          }
        }
      ]
    },
    {
      "cell_type": "markdown",
      "source": [
        "##########################################"
      ],
      "metadata": {
        "id": "GxOgz67Upc2R"
      }
    },
    {
      "cell_type": "code",
      "source": [
        "from sklearn.cluster import AgglomerativeClustering\n",
        "\n",
        "m = AgglomerativeClustering(n_clusters = 6, linkage = 'average')\n",
        "m.fit(X_svd)"
      ],
      "metadata": {
        "id": "qK-rn6ccgqLH"
      },
      "execution_count": null,
      "outputs": []
    },
    {
      "cell_type": "code",
      "source": [
        "#m.labels_\n",
        "np.unique(m.labels_)\n"
      ],
      "metadata": {
        "id": "Ha-8V5Aei_ew",
        "colab": {
          "base_uri": "https://localhost:8080/"
        },
        "outputId": "10a70ba2-618c-407f-f59f-c97053aeb641"
      },
      "execution_count": null,
      "outputs": [
        {
          "output_type": "execute_result",
          "data": {
            "text/plain": [
              "array([0, 1, 2, 3, 4, 5])"
            ]
          },
          "metadata": {},
          "execution_count": 23
        }
      ]
    },
    {
      "cell_type": "code",
      "source": [
        "#plot both count plots of genre on top of each other\n",
        "fig, ax = plt.subplots(1,2, figsize=(15,5))\n",
        "data['genre'].value_counts().plot(kind='bar', title='Number of movies in each genre', ax=ax[0])\n",
        "pd.Series(m.labels_).value_counts().plot(kind='bar', title='Number of movies in each genre', ax=ax[1])\n",
        "plt.show()"
      ],
      "metadata": {
        "id": "qlYN50DTj8S9",
        "colab": {
          "base_uri": "https://localhost:8080/",
          "height": 369
        },
        "outputId": "835e1aa9-b6c6-49ac-a953-cb4ffc434e0b"
      },
      "execution_count": null,
      "outputs": [
        {
          "output_type": "display_data",
          "data": {
            "text/plain": [
              "<Figure size 1080x360 with 2 Axes>"
            ],
            "image/png": "[encoded data removed]"
          },
          "metadata": {
            "needs_background": "light"
          }
        }
      ]
    },
    {
      "cell_type": "code",
      "source": [
        "y_ah_df = pd.DataFrame(m.labels_, columns=['genre'])\n",
        "values_counts = pd.Series(m.labels_).value_counts()\n",
        "values_counts"
      ],
      "metadata": {
        "id": "BagXyMwirt00",
        "colab": {
          "base_uri": "https://localhost:8080/"
        },
        "outputId": "08ad400b-58a1-48db-86e9-d063f8bacff2"
      },
      "execution_count": null,
      "outputs": [
        {
          "output_type": "execute_result",
          "data": {
            "text/plain": [
              "1    28820\n",
              "0      991\n",
              "2       76\n",
              "4        4\n",
              "3        2\n",
              "5        1\n",
              "dtype: int64"
            ]
          },
          "metadata": {},
          "execution_count": 25
        }
      ]
    },
    {
      "cell_type": "markdown",
      "source": [
        "### Agrupamento Espectral"
      ],
      "metadata": {
        "id": "sqNCH8l_qU_n"
      }
    },
    {
      "cell_type": "code",
      "source": [
        "from sklearn.cluster import SpectralClustering\n",
        "\n",
        "m = SpectralClustering(n_clusters = 6, affinity = 'nearest_neighbors', n_neighbors = 10)\n",
        "#m = SpectralClustering(n_clusters = 3)\n",
        "m.fit(X_svd)"
      ],
      "metadata": {
        "colab": {
          "base_uri": "https://localhost:8080/"
        },
        "id": "lYe3EGuY2tFD",
        "outputId": "3604e366-fcec-43a5-eee8-8f0cff808a38"
      },
      "execution_count": null,
      "outputs": [
        {
          "output_type": "stream",
          "name": "stderr",
          "text": [
            "/usr/local/lib/python3.8/dist-packages/sklearn/manifold/_spectral_embedding.py:260: UserWarning: Graph is not fully connected, spectral embedding may not work as expected.\n",
            "  warnings.warn(\n"
          ]
        },
        {
          "output_type": "execute_result",
          "data": {
            "text/plain": [
              "SpectralClustering(affinity='nearest_neighbors')"
            ]
          },
          "metadata": {},
          "execution_count": 26
        }
      ]
    },
    {
      "cell_type": "code",
      "source": [
        "#plot both count plots of genre on top of each other\n",
        "fig, ax = plt.subplots(1,2, figsize=(15,5))\n",
        "data['genre'].value_counts().plot(kind='bar', title='Number of movies in each genre', ax=ax[0])\n",
        "pd.Series(m.labels_).value_counts().plot(kind='bar', title='Number of movies in each genre', ax=ax[1])\n",
        "plt.show()"
      ],
      "metadata": {
        "colab": {
          "base_uri": "https://localhost:8080/",
          "height": 369
        },
        "id": "Wt1_MRrD2u8R",
        "outputId": "566363ae-f52b-4d80-d3e6-7c2617a66bce"
      },
      "execution_count": null,
      "outputs": [
        {
          "output_type": "display_data",
          "data": {
            "text/plain": [
              "<Figure size 1080x360 with 2 Axes>"
            ],
            "image/png": "[encoded data removed]"
          },
          "metadata": {
            "needs_background": "light"
          }
        }
      ]
    },
    {
      "cell_type": "code",
      "source": [
        "y_sc_df = pd.DataFrame(m.labels_, columns=['genre'])\n",
        "values_counts = pd.Series(m.labels_).value_counts()\n",
        "values_counts"
      ],
      "metadata": {
        "colab": {
          "base_uri": "https://localhost:8080/"
        },
        "id": "w58KDxlqFI_o",
        "outputId": "c252d913-e9b3-4fa5-8d2e-c919d0da9041"
      },
      "execution_count": null,
      "outputs": [
        {
          "output_type": "execute_result",
          "data": {
            "text/plain": [
              "0    11952\n",
              "1    11700\n",
              "7     2864\n",
              "5     2469\n",
              "6      599\n",
              "4      253\n",
              "2       39\n",
              "3       18\n",
              "dtype: int64"
            ]
          },
          "metadata": {},
          "execution_count": 28
        }
      ]
    }
  ]
}