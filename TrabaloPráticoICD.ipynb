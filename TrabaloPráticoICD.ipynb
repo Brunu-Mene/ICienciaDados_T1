{
  "nbformat": 4,
  "nbformat_minor": 0,
  "metadata": {
    "colab": {
      "provenance": []
    },
    "kernelspec": {
      "name": "python3",
      "display_name": "Python 3"
    },
    "language_info": {
      "name": "python"
    }
  },
  "cells": [
    {
      "cell_type": "markdown",
      "source": [
        "### Importando Bibliotecas"
      ],
      "metadata": {
        "id": "mH2ArKHh707A"
      }
    },
    {
      "cell_type": "code",
      "execution_count": 1,
      "metadata": {
        "id": "365HVw3G7vBV",
        "colab": {
          "base_uri": "https://localhost:8080/"
        },
        "outputId": "7a8cb96f-54d4-45d9-b601-930c78625b77"
      },
      "outputs": [
        {
          "output_type": "stream",
          "name": "stdout",
          "text": [
            "Mounted at /content/gdrive\n"
          ]
        }
      ],
      "source": [
        "import pandas as pd\n",
        "import numpy as np\n",
        "import matplotlib.pyplot as plt\n",
        "import pickle\n",
        "from google.colab import drive\n",
        "drive.mount('/content/gdrive')"
      ]
    },
    {
      "cell_type": "markdown",
      "source": [
        "### Importando Base de Dados"
      ],
      "metadata": {
        "id": "XWg32LHy79uV"
      }
    },
    {
      "cell_type": "code",
      "source": [
        "#load data from txt file with no head witch the data is splot by :::\n",
        "data = pd.read_table('/content/gdrive/MyDrive/Genre_Classification_Dataset/train_data.txt', sep=':::', engine='python',header=None)\n",
        "#remove index \n",
        "data = data.drop([0], axis=1)\n",
        "#set dataframe head \n",
        "data.columns = ['name', 'genre','description']"
      ],
      "metadata": {
        "id": "I1xLbeBf78Xh"
      },
      "execution_count": 2,
      "outputs": []
    },
    {
      "cell_type": "markdown",
      "source": [
        "### ETL"
      ],
      "metadata": {
        "id": "uJdDEVoZ8Cas"
      }
    },
    {
      "cell_type": "code",
      "source": [
        "#removing whitespaces from the start and end of the colum \"genre\"\n",
        "data['genre'] = data['genre'].str.strip()"
      ],
      "metadata": {
        "id": "1swhbqFF8D0M"
      },
      "execution_count": 3,
      "outputs": []
    },
    {
      "cell_type": "code",
      "source": [
        "print(\"before filtering genres: \",len(data))\n",
        "filter_list = ['drama', 'comedy', 'horror', 'thriller', 'action', 'mystery', 'sci-fi', 'fantasy', 'western', 'romance', 'music']\n",
        "data = data[data['genre'].isin(filter_list)]\n",
        "print(\"after filtering genres: \",len(data))"
      ],
      "metadata": {
        "colab": {
          "base_uri": "https://localhost:8080/"
        },
        "id": "3-7uUBUj8E_6",
        "outputId": "098a4bc2-05f0-490e-e69e-5e5ecd540e11"
      },
      "execution_count": 4,
      "outputs": [
        {
          "output_type": "stream",
          "name": "stdout",
          "text": [
            "before filtering genres:  54214\n",
            "after filtering genres:  29894\n"
          ]
        }
      ]
    },
    {
      "cell_type": "markdown",
      "source": [
        "Vamo ver se a gente vai usar isso, talvez tentar primeiro sem:"
      ],
      "metadata": {
        "id": "BGDKLH9L8IBO"
      }
    },
    {
      "cell_type": "code",
      "source": [
        "#creating a \"super-genre\" out of \"horror\", \"thriller\" and \"mystery\" \n",
        "data['genre'] = data['genre'].replace(['horror', 'thriller', 'mystery'], 'h-t-m')\n",
        "\n",
        "#creating a \"super-genre\" out of \"sci-fi\" and \"fantasy\"\n",
        "data['genre'] = data['genre'].replace(['sci-fi', 'fantasy'], 's-f')\n",
        "\n",
        "#reindex data\n",
        "data = data.reset_index(drop=True)"
      ],
      "metadata": {
        "id": "vJ6BIovK8JfN",
        "colab": {
          "base_uri": "https://localhost:8080/"
        },
        "outputId": "e2d48075-32cc-4ea4-e6b8-e76a5cba04b6"
      },
      "execution_count": 5,
      "outputs": [
        {
          "output_type": "stream",
          "name": "stderr",
          "text": [
            "<ipython-input-5-ec25735b02ca>:2: SettingWithCopyWarning: \n",
            "A value is trying to be set on a copy of a slice from a DataFrame.\n",
            "Try using .loc[row_indexer,col_indexer] = value instead\n",
            "\n",
            "See the caveats in the documentation: https://pandas.pydata.org/pandas-docs/stable/user_guide/indexing.html#returning-a-view-versus-a-copy\n",
            "  data['genre'] = data['genre'].replace(['horror', 'thriller', 'mystery'], 'h-t-m')\n",
            "<ipython-input-5-ec25735b02ca>:5: SettingWithCopyWarning: \n",
            "A value is trying to be set on a copy of a slice from a DataFrame.\n",
            "Try using .loc[row_indexer,col_indexer] = value instead\n",
            "\n",
            "See the caveats in the documentation: https://pandas.pydata.org/pandas-docs/stable/user_guide/indexing.html#returning-a-view-versus-a-copy\n",
            "  data['genre'] = data['genre'].replace(['sci-fi', 'fantasy'], 's-f')\n"
          ]
        }
      ]
    },
    {
      "cell_type": "code",
      "source": [
        "#removendo possiveis valores nulos de descrição\n",
        "data = data[data['description'].notna()]"
      ],
      "metadata": {
        "id": "hSruj3ZfdmK2"
      },
      "execution_count": 6,
      "outputs": []
    },
    {
      "cell_type": "markdown",
      "source": [
        "### EDA"
      ],
      "metadata": {
        "id": "mRjB9ps78LHc"
      }
    },
    {
      "cell_type": "code",
      "source": [
        "#ploting the number of movies in each genre\n",
        "data['genre'].value_counts().plot(kind='bar', title='Number of movies in each genre')"
      ],
      "metadata": {
        "colab": {
          "base_uri": "https://localhost:8080/",
          "height": 332
        },
        "id": "RUxn9TQZ8Na0",
        "outputId": "c5d7a58f-a4ab-4834-b815-a70f2c01602e"
      },
      "execution_count": 7,
      "outputs": [
        {
          "output_type": "execute_result",
          "data": {
            "text/plain": [
              "<matplotlib.axes._subplots.AxesSubplot at 0x7fb5119ed520>"
            ]
          },
          "metadata": {},
          "execution_count": 7
        },
        {
          "output_type": "display_data",
          "data": {
            "text/plain": [
              "<Figure size 432x288 with 1 Axes>"
            ],
            "image/png": "[encoded data removed]"
          },
          "metadata": {
            "needs_background": "light"
          }
        }
      ]
    },
    {
      "cell_type": "markdown",
      "source": [
        "### Construção da Matriz TF-IDF"
      ],
      "metadata": {
        "id": "1OYATdDo8PCl"
      }
    },
    {
      "cell_type": "code",
      "source": [
        "!pip install unidecode"
      ],
      "metadata": {
        "colab": {
          "base_uri": "https://localhost:8080/"
        },
        "id": "Jua4uSJ19Jqy",
        "outputId": "5a0725fb-9e83-4de6-bd66-fcd76d6e609d"
      },
      "execution_count": 8,
      "outputs": [
        {
          "output_type": "stream",
          "name": "stdout",
          "text": [
            "Looking in indexes: https://pypi.org/simple, https://us-python.pkg.dev/colab-wheels/public/simple/\n",
            "Collecting unidecode\n",
            "  Downloading Unidecode-1.3.6-py3-none-any.whl (235 kB)\n",
            "\u001b[K     |████████████████████████████████| 235 kB 16.1 MB/s \n",
            "\u001b[?25hInstalling collected packages: unidecode\n",
            "Successfully installed unidecode-1.3.6\n"
          ]
        }
      ]
    },
    {
      "cell_type": "code",
      "source": [
        "import nltk\n",
        "from nltk import word_tokenize\n",
        "import string\n",
        "import unidecode\n",
        "from nltk.corpus import stopwords\n",
        "from nltk.stem.porter import PorterStemmer\n",
        "nltk.download('stopwords')\n",
        "nltk.download('punkt')\n",
        "\n",
        "\n",
        "listStringTerms = []\n",
        "\n",
        "\n",
        "def criandoLinha(descrição):\n",
        "    #capturando tokens da descrição\n",
        "    tokens = word_tokenize(descrição)\n",
        "    #normalizando para minúsculo\n",
        "    tokens = [w.lower() for w in tokens]\n",
        "\n",
        "\n",
        "    #removendo simbolos de pontuação\n",
        "    table = str.maketrans('', '', string.punctuation)\n",
        "    tokens = [w.translate(table) for w in tokens]\n",
        "\n",
        "\n",
        "\n",
        "    #tratando caracteres especiais\n",
        "    tokens = [unidecode.unidecode(w) for w in tokens]\n",
        "\n",
        "    #selecionando apenas palavras\n",
        "    words = [word for word in tokens if word.isalpha()]\n",
        "\n",
        "    #removendo palavras com 3 ou menos caracteres\n",
        "    words = [word for word in words if len(word) > 3]\n",
        "    \n",
        "    #removendo palavras vazias\n",
        "    stop_words = set(stopwords.words('english'))\n",
        "    words = [word for word in words if not word in stop_words]\n",
        "\n",
        "\n",
        "    #redução de palavras\n",
        "    porter = PorterStemmer()\n",
        "    stemmedWords = [porter.stem(word) for word in words] \n",
        "\n",
        "    #transformando lista de stemmedWords em uma string\n",
        "    stringTerms = ' '.join(stemmedWords)\n",
        "\n",
        "\n",
        "\n",
        "    return stringTerms\n",
        "\n"
      ],
      "metadata": {
        "colab": {
          "base_uri": "https://localhost:8080/"
        },
        "id": "caZ4fuK08PnD",
        "outputId": "afef321a-75f3-4721-b1aa-6d691727201c"
      },
      "execution_count": 9,
      "outputs": [
        {
          "output_type": "stream",
          "name": "stderr",
          "text": [
            "[nltk_data] Downloading package stopwords to /root/nltk_data...\n",
            "[nltk_data]   Unzipping corpora/stopwords.zip.\n",
            "[nltk_data] Downloading package punkt to /root/nltk_data...\n",
            "[nltk_data]   Unzipping tokenizers/punkt.zip.\n"
          ]
        }
      ]
    },
    {
      "cell_type": "code",
      "source": [
        "#criando a lista de strings de termos\n",
        "listStringTerms = data['description'].apply(criandoLinha)"
      ],
      "metadata": {
        "id": "mzfS__fN8U9a"
      },
      "execution_count": 10,
      "outputs": []
    },
    {
      "cell_type": "code",
      "source": [
        "##construindo matriz TF-IDF\n",
        "from sklearn.feature_extraction.text import TfidfVectorizer\n",
        "vectorizer = TfidfVectorizer(max_df = 0.70, min_df = 0.05)\n",
        "X = vectorizer.fit_transform(listStringTerms)\n",
        "X"
      ],
      "metadata": {
        "id": "hhWFq7JUcjZb",
        "colab": {
          "base_uri": "https://localhost:8080/"
        },
        "outputId": "58f8bf4b-fdcb-44c9-b802-57ff00f8cb44"
      },
      "execution_count": 11,
      "outputs": [
        {
          "output_type": "execute_result",
          "data": {
            "text/plain": [
              "<29894x111 sparse matrix of type '<class 'numpy.float64'>'\n",
              "\twith 289000 stored elements in Compressed Sparse Row format>"
            ]
          },
          "metadata": {},
          "execution_count": 11
        }
      ]
    },
    {
      "cell_type": "code",
      "source": [
        "#save X and y in a file\n",
        "with open('X.pickle', 'wb') as f:\n",
        "    pickle.dump(X, f)"
      ],
      "metadata": {
        "id": "Gz9ELvZm8WWe"
      },
      "execution_count": 12,
      "outputs": []
    },
    {
      "cell_type": "code",
      "source": [
        "X = pickle.load(open('X.pickle', 'rb'))"
      ],
      "metadata": {
        "id": "wQbfYGTAd0aG"
      },
      "execution_count": 13,
      "outputs": []
    },
    {
      "cell_type": "code",
      "source": [
        "from sklearn.decomposition import TruncatedSVD\n",
        "svd = TruncatedSVD(n_components=6, random_state=3)\n",
        "X_svd = svd.fit_transform(X)"
      ],
      "metadata": {
        "id": "UzyfrEYad3Z8"
      },
      "execution_count": 14,
      "outputs": []
    },
    {
      "cell_type": "code",
      "source": [
        "svd.explained_variance_ratio_.sum()"
      ],
      "metadata": {
        "colab": {
          "base_uri": "https://localhost:8080/"
        },
        "id": "3X9fsog-d4T6",
        "outputId": "b9492f3f-e092-43f3-d0b2-312ec8433862"
      },
      "execution_count": 15,
      "outputs": [
        {
          "output_type": "execute_result",
          "data": {
            "text/plain": [
              "0.10318093909317558"
            ]
          },
          "metadata": {},
          "execution_count": 15
        }
      ]
    },
    {
      "cell_type": "code",
      "source": [
        "#plot k rank vs explained variance\n",
        "plt.plot(svd.explained_variance_ratio_.cumsum())\n",
        "plt.xlabel('k')\n",
        "plt.ylabel('explained variance')\n",
        "plt.title('k rank vs explained variance')\n",
        "plt.show()\n"
      ],
      "metadata": {
        "colab": {
          "base_uri": "https://localhost:8080/",
          "height": 295
        },
        "id": "F4cELcTHd5Xu",
        "outputId": "a95bbc1b-ba4a-4cbc-861e-157b819a1c55"
      },
      "execution_count": 16,
      "outputs": [
        {
          "output_type": "display_data",
          "data": {
            "text/plain": [
              "<Figure size 432x288 with 1 Axes>"
            ],
            "image/png": "[encoded data removed]"
          },
          "metadata": {
            "needs_background": "light"
          }
        }
      ]
    },
    {
      "cell_type": "code",
      "source": [
        "data['genre']"
      ],
      "metadata": {
        "colab": {
          "base_uri": "https://localhost:8080/"
        },
        "id": "Xp83V24Xd6jK",
        "outputId": "d6dfc7ac-8cdd-48f1-a6c8-d6498e1ccb37"
      },
      "execution_count": 17,
      "outputs": [
        {
          "output_type": "execute_result",
          "data": {
            "text/plain": [
              "0         drama\n",
              "1         h-t-m\n",
              "2         drama\n",
              "3         drama\n",
              "4        comedy\n",
              "          ...  \n",
              "29889     music\n",
              "29890     drama\n",
              "29891    comedy\n",
              "29892     h-t-m\n",
              "29893    comedy\n",
              "Name: genre, Length: 29894, dtype: object"
            ]
          },
          "metadata": {},
          "execution_count": 17
        }
      ]
    },
    {
      "cell_type": "markdown",
      "source": [
        "### Agrupamento"
      ],
      "metadata": {
        "id": "I5OYdBEnd7Rc"
      }
    },
    {
      "cell_type": "code",
      "source": [
        "#k means classifier for X_svd\n",
        "from sklearn.cluster import KMeans\n",
        "kmeans = KMeans(n_clusters=5, random_state=45).fit(X_svd)\n",
        "y_kmeans = kmeans.predict(X_svd)\n",
        "\n",
        "#ploting the number of movies in each genre\n",
        "pd.Series(y_kmeans).value_counts().plot(kind='bar', title='Number of movies in each genre')"
      ],
      "metadata": {
        "colab": {
          "base_uri": "https://localhost:8080/",
          "height": 295
        },
        "id": "CrVlfFw7d-OS",
        "outputId": "eb07d52e-07a1-4b24-eb1c-6e2b9a5d16ab"
      },
      "execution_count": 18,
      "outputs": [
        {
          "output_type": "execute_result",
          "data": {
            "text/plain": [
              "<matplotlib.axes._subplots.AxesSubplot at 0x7fb5046995b0>"
            ]
          },
          "metadata": {},
          "execution_count": 18
        },
        {
          "output_type": "display_data",
          "data": {
            "text/plain": [
              "<Figure size 432x288 with 1 Axes>"
            ],
            "image/png": "[encoded data removed]"
          },
          "metadata": {
            "needs_background": "light"
          }
        }
      ]
    },
    {
      "cell_type": "code",
      "source": [
        "#plot both count plots of genre on top of each other\n",
        "fig, ax = plt.subplots(1,2, figsize=(15,5))\n",
        "data['genre'].value_counts().plot(kind='bar', title='Number of movies in each genre', ax=ax[0])\n",
        "pd.Series(y_kmeans).value_counts().plot(kind='bar', title='Number of movies in each genre', ax=ax[1])\n",
        "plt.show()"
      ],
      "metadata": {
        "colab": {
          "base_uri": "https://localhost:8080/",
          "height": 369
        },
        "id": "6w8H5_uEeWMY",
        "outputId": "1dbb5a54-3fb2-4ee6-86fb-73d57f3b5d09"
      },
      "execution_count": 19,
      "outputs": [
        {
          "output_type": "display_data",
          "data": {
            "text/plain": [
              "<Figure size 1080x360 with 2 Axes>"
            ],
            "image/png": "[encoded data removed]"
          },
          "metadata": {
            "needs_background": "light"
          }
        }
      ]
    },
    {
      "cell_type": "code",
      "source": [
        "#create a dataframe with y_kmeans\n",
        "y_kmeans_df = pd.DataFrame(y_kmeans, columns=['genre'])\n",
        "values_counts = pd.Series(y_kmeans).value_counts()\n",
        "values_counts"
      ],
      "metadata": {
        "colab": {
          "base_uri": "https://localhost:8080/"
        },
        "id": "nj24jgk9eZyu",
        "outputId": "2e3fb088-6d6b-48be-89af-f90cfb1fa1f1"
      },
      "execution_count": 20,
      "outputs": [
        {
          "output_type": "execute_result",
          "data": {
            "text/plain": [
              "2    13790\n",
              "1     6136\n",
              "3     3897\n",
              "0     3861\n",
              "4     2210\n",
              "dtype: int64"
            ]
          },
          "metadata": {},
          "execution_count": 20
        }
      ]
    },
    {
      "cell_type": "markdown",
      "source": [
        "### Agrupamento Hierárquico\n"
      ],
      "metadata": {
        "id": "UUJZwgaHqO_J"
      }
    },
    {
      "cell_type": "code",
      "source": [
        "import scipy.cluster.hierarchy as shc\n",
        "\n",
        "plt.figure(figsize =(8, 8))\n",
        "plt.title('Visualising the data')\n",
        "Dendrogram = shc.dendrogram((shc.linkage(X_svd, method ='ward')))"
      ],
      "metadata": {
        "colab": {
          "base_uri": "https://localhost:8080/",
          "height": 505
        },
        "id": "nxZZBz81lArw",
        "outputId": "e9003e28-0f30-4086-c2e1-148ad6850ba8"
      },
      "execution_count": 21,
      "outputs": [
        {
          "output_type": "display_data",
          "data": {
            "text/plain": [
              "<Figure size 576x576 with 1 Axes>"
            ],
            "image/png": "[encoded data removed]"
          },
          "metadata": {
            "needs_background": "light"
          }
        }
      ]
    },
    {
      "cell_type": "code",
      "source": [
        "from sklearn.cluster import AgglomerativeClustering\n",
        "\n",
        "m = AgglomerativeClustering(n_clusters = 6, linkage = 'average')\n",
        "m.fit(X_svd)"
      ],
      "metadata": {
        "id": "qK-rn6ccgqLH",
        "colab": {
          "base_uri": "https://localhost:8080/"
        },
        "outputId": "76ea1ad3-41d4-4949-8f5c-1cb91fb8c6df"
      },
      "execution_count": 22,
      "outputs": [
        {
          "output_type": "execute_result",
          "data": {
            "text/plain": [
              "AgglomerativeClustering(linkage='average', n_clusters=6)"
            ]
          },
          "metadata": {},
          "execution_count": 22
        }
      ]
    },
    {
      "cell_type": "code",
      "source": [
        "#m.labels_\n",
        "np.unique(m.labels_)\n"
      ],
      "metadata": {
        "id": "Ha-8V5Aei_ew",
        "colab": {
          "base_uri": "https://localhost:8080/"
        },
        "outputId": "10a70ba2-618c-407f-f59f-c97053aeb641"
      },
      "execution_count": 23,
      "outputs": [
        {
          "output_type": "execute_result",
          "data": {
            "text/plain": [
              "array([0, 1, 2, 3, 4, 5])"
            ]
          },
          "metadata": {},
          "execution_count": 23
        }
      ]
    },
    {
      "cell_type": "code",
      "source": [
        "#plot both count plots of genre on top of each other\n",
        "fig, ax = plt.subplots(1,2, figsize=(15,5))\n",
        "data['genre'].value_counts().plot(kind='bar', title='Number of movies in each genre', ax=ax[0])\n",
        "pd.Series(m.labels_).value_counts().plot(kind='bar', title='Number of movies in each genre', ax=ax[1])\n",
        "plt.show()"
      ],
      "metadata": {
        "id": "qlYN50DTj8S9",
        "colab": {
          "base_uri": "https://localhost:8080/",
          "height": 369
        },
        "outputId": "835e1aa9-b6c6-49ac-a953-cb4ffc434e0b"
      },
      "execution_count": 24,
      "outputs": [
        {
          "output_type": "display_data",
          "data": {
            "text/plain": [
              "<Figure size 1080x360 with 2 Axes>"
            ],
            "image/png": "[encoded data removed]"
          },
          "metadata": {
            "needs_background": "light"
          }
        }
      ]
    },
    {
      "cell_type": "code",
      "source": [
        "y_ah_df = pd.DataFrame(m.labels_, columns=['genre'])\n",
        "values_counts = pd.Series(m.labels_).value_counts()\n",
        "values_counts"
      ],
      "metadata": {
        "id": "BagXyMwirt00",
        "colab": {
          "base_uri": "https://localhost:8080/"
        },
        "outputId": "08ad400b-58a1-48db-86e9-d063f8bacff2"
      },
      "execution_count": 25,
      "outputs": [
        {
          "output_type": "execute_result",
          "data": {
            "text/plain": [
              "1    28820\n",
              "0      991\n",
              "2       76\n",
              "4        4\n",
              "3        2\n",
              "5        1\n",
              "dtype: int64"
            ]
          },
          "metadata": {},
          "execution_count": 25
        }
      ]
    },
    {
      "cell_type": "markdown",
      "source": [
        "### Agrupamento Espectral"
      ],
      "metadata": {
        "id": "sqNCH8l_qU_n"
      }
    },
    {
      "cell_type": "code",
      "source": [
        "from sklearn.cluster import SpectralClustering\n",
        "\n",
        "m = SpectralClustering(n_clusters = 6, affinity = 'nearest_neighbors', n_neighbors = 10)\n",
        "#m = SpectralClustering(n_clusters = 3)\n",
        "m.fit(X_svd)"
      ],
      "metadata": {
        "colab": {
          "base_uri": "https://localhost:8080/"
        },
        "id": "lYe3EGuY2tFD",
        "outputId": "3604e366-fcec-43a5-eee8-8f0cff808a38"
      },
      "execution_count": 26,
      "outputs": [
        {
          "output_type": "stream",
          "name": "stderr",
          "text": [
            "/usr/local/lib/python3.8/dist-packages/sklearn/manifold/_spectral_embedding.py:260: UserWarning: Graph is not fully connected, spectral embedding may not work as expected.\n",
            "  warnings.warn(\n"
          ]
        },
        {
          "output_type": "execute_result",
          "data": {
            "text/plain": [
              "SpectralClustering(affinity='nearest_neighbors')"
            ]
          },
          "metadata": {},
          "execution_count": 26
        }
      ]
    },
    {
      "cell_type": "code",
      "source": [
        "#plot both count plots of genre on top of each other\n",
        "fig, ax = plt.subplots(1,2, figsize=(15,5))\n",
        "data['genre'].value_counts().plot(kind='bar', title='Number of movies in each genre', ax=ax[0])\n",
        "pd.Series(m.labels_).value_counts().plot(kind='bar', title='Number of movies in each genre', ax=ax[1])\n",
        "plt.show()"
      ],
      "metadata": {
        "colab": {
          "base_uri": "https://localhost:8080/",
          "height": 369
        },
        "id": "Wt1_MRrD2u8R",
        "outputId": "566363ae-f52b-4d80-d3e6-7c2617a66bce"
      },
      "execution_count": 27,
      "outputs": [
        {
          "output_type": "display_data",
          "data": {
            "text/plain": [
              "<Figure size 1080x360 with 2 Axes>"
            ],
            "image/png": "[encoded data removed]"
          },
          "metadata": {
            "needs_background": "light"
          }
        }
      ]
    },
    {
      "cell_type": "code",
      "source": [
        "y_sc_df = pd.DataFrame(m.labels_, columns=['genre'])\n",
        "values_counts = pd.Series(m.labels_).value_counts()\n",
        "values_counts"
      ],
      "metadata": {
        "colab": {
          "base_uri": "https://localhost:8080/"
        },
        "id": "w58KDxlqFI_o",
        "outputId": "c252d913-e9b3-4fa5-8d2e-c919d0da9041"
      },
      "execution_count": 28,
      "outputs": [
        {
          "output_type": "execute_result",
          "data": {
            "text/plain": [
              "0    11952\n",
              "1    11700\n",
              "7     2864\n",
              "5     2469\n",
              "6      599\n",
              "4      253\n",
              "2       39\n",
              "3       18\n",
              "dtype: int64"
            ]
          },
          "metadata": {},
          "execution_count": 28
        }
      ]
    }
  ]
}