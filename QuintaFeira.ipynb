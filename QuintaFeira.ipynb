{
  "nbformat": 4,
  "nbformat_minor": 0,
  "metadata": {
    "colab": {
      "provenance": []
    },
    "kernelspec": {
      "name": "python3",
      "display_name": "Python 3"
    },
    "language_info": {
      "name": "python"
    }
  },
  "cells": [
    {
      "cell_type": "markdown",
      "source": [
        "### Importando Bibliotecas"
      ],
      "metadata": {
        "id": "mH2ArKHh707A"
      }
    },
    {
      "cell_type": "code",
      "execution_count": 1,
      "metadata": {
        "id": "365HVw3G7vBV",
        "colab": {
          "base_uri": "https://localhost:8080/"
        },
        "outputId": "8ff496f7-966c-49fd-8adf-66868edb35d8"
      },
      "outputs": [
        {
          "output_type": "stream",
          "name": "stdout",
          "text": [
            "Drive already mounted at /content/gdrive; to attempt to forcibly remount, call drive.mount(\"/content/gdrive\", force_remount=True).\n"
          ]
        }
      ],
      "source": [
        "import pandas as pd\n",
        "import numpy as np\n",
        "import matplotlib.pyplot as plt\n",
        "import pickle\n",
        "from google.colab import drive\n",
        "drive.mount('/content/gdrive')"
      ]
    },
    {
      "cell_type": "markdown",
      "source": [
        "### Importando Base de Dados"
      ],
      "metadata": {
        "id": "XWg32LHy79uV"
      }
    },
    {
      "cell_type": "code",
      "source": [
        "#load data from txt file with no head witch the data is splot by :::\n",
        "trainData = pd.read_table('/content/gdrive/MyDrive/Genre_Classification_Dataset/train_data.txt', sep=':::', engine='python',header=None)\n",
        "testData = pd.read_table('/content/gdrive/MyDrive/Genre_Classification_Dataset/test_data_solution.txt', sep=':::', engine='python',header=None)\n",
        "#combing dataset's\n",
        "data = trainData.append(testData)\n",
        "#remove index\n",
        "data = data.drop([0], axis=1)\n",
        "#set dataframe head \n",
        "data.columns = ['name', 'genre','description']"
      ],
      "metadata": {
        "id": "I1xLbeBf78Xh"
      },
      "execution_count": 2,
      "outputs": []
    },
    {
      "cell_type": "markdown",
      "source": [
        "### ETL"
      ],
      "metadata": {
        "id": "uJdDEVoZ8Cas"
      }
    },
    {
      "cell_type": "code",
      "source": [
        "#removing whitespaces from the start and end of the colum \"genre\"\n",
        "data['genre'] = data['genre'].str.strip()"
      ],
      "metadata": {
        "id": "1swhbqFF8D0M"
      },
      "execution_count": 3,
      "outputs": []
    },
    {
      "cell_type": "code",
      "source": [
        "print(\"before filtering genres: \",len(data))\n",
        "filter_list = ['drama', 'comedy', 'horror', 'thriller', 'action', 'mystery', 'sci-fi', 'fantasy', 'western', 'romance', 'music']\n",
        "data = data[data['genre'].isin(filter_list)]\n",
        "print(\"after filtering genres: \",len(data))"
      ],
      "metadata": {
        "colab": {
          "base_uri": "https://localhost:8080/"
        },
        "id": "3-7uUBUj8E_6",
        "outputId": "c49be6cf-8e66-4dbf-e9ec-64780c156d65"
      },
      "execution_count": 4,
      "outputs": [
        {
          "output_type": "stream",
          "name": "stdout",
          "text": [
            "before filtering genres:  108414\n",
            "after filtering genres:  59781\n"
          ]
        }
      ]
    },
    {
      "cell_type": "markdown",
      "source": [
        "Vamo ver se a gente vai usar isso, talvez tentar primeiro sem:"
      ],
      "metadata": {
        "id": "BGDKLH9L8IBO"
      }
    },
    {
      "cell_type": "code",
      "source": [
        "#creating a \"super-genre\" out of \"horror\", \"thriller\" and \"mystery\" \n",
        "data['genre'] = data['genre'].replace(['horror', 'thriller', 'mystery'], 'h-t-m')\n",
        "\n",
        "#creating a \"super-genre\" out of \"sci-fi\" and \"fantasy\"\n",
        "data['genre'] = data['genre'].replace(['sci-fi', 'fantasy'], 's-f')\n",
        "\n",
        "#reindex data\n",
        "data = data.reset_index(drop=True)"
      ],
      "metadata": {
        "id": "vJ6BIovK8JfN"
      },
      "execution_count": 5,
      "outputs": []
    },
    {
      "cell_type": "code",
      "source": [
        "#removendo possiveis valores nulos de descrição\n",
        "data = data[data['description'].notna()]"
      ],
      "metadata": {
        "id": "hSruj3ZfdmK2"
      },
      "execution_count": 6,
      "outputs": []
    },
    {
      "cell_type": "markdown",
      "source": [
        "### EDA"
      ],
      "metadata": {
        "id": "mRjB9ps78LHc"
      }
    },
    {
      "cell_type": "code",
      "source": [
        "#ploting the number of movies in each genre\n",
        "data['genre'].value_counts().plot(kind='bar', title='Number of movies in each genre')"
      ],
      "metadata": {
        "colab": {
          "base_uri": "https://localhost:8080/",
          "height": 332
        },
        "id": "RUxn9TQZ8Na0",
        "outputId": "056c79f5-8aa0-48bf-d9da-b7cd70e63f8d"
      },
      "execution_count": 7,
      "outputs": [
        {
          "output_type": "execute_result",
          "data": {
            "text/plain": [
              "<matplotlib.axes._subplots.AxesSubplot at 0x7fde301844c0>"
            ]
          },
          "metadata": {},
          "execution_count": 7
        },
        {
          "output_type": "display_data",
          "data": {
            "text/plain": [
              "<Figure size 432x288 with 1 Axes>"
            ],
            "image/png": "[encoded data removed]"
          },
          "metadata": {
            "needs_background": "light"
          }
        }
      ]
    },
    {
      "cell_type": "markdown",
      "source": [
        "### Construção da Matriz TF-IDF"
      ],
      "metadata": {
        "id": "1OYATdDo8PCl"
      }
    },
    {
      "cell_type": "code",
      "source": [
        "!pip install unidecode"
      ],
      "metadata": {
        "colab": {
          "base_uri": "https://localhost:8080/"
        },
        "id": "Jua4uSJ19Jqy",
        "outputId": "63c8a959-3322-4a28-bdec-a64d000c6bba"
      },
      "execution_count": 8,
      "outputs": [
        {
          "output_type": "stream",
          "name": "stdout",
          "text": [
            "Looking in indexes: https://pypi.org/simple, https://us-python.pkg.dev/colab-wheels/public/simple/\n",
            "Requirement already satisfied: unidecode in /usr/local/lib/python3.8/dist-packages (1.3.6)\n"
          ]
        }
      ]
    },
    {
      "cell_type": "code",
      "source": [
        "import nltk\n",
        "from nltk import word_tokenize\n",
        "import string\n",
        "import unidecode\n",
        "from nltk.corpus import stopwords\n",
        "from nltk.stem.porter import PorterStemmer\n",
        "nltk.download('stopwords')\n",
        "nltk.download('punkt')\n",
        "\n",
        "\n",
        "listStringTerms = []\n",
        "\n",
        "\n",
        "def criandoLinha(descrição):\n",
        "    #capturando tokens da descrição\n",
        "    tokens = word_tokenize(descrição)\n",
        "    #normalizando para minúsculo\n",
        "    tokens = [w.lower() for w in tokens]\n",
        "\n",
        "    #removendo simbolos de pontuação\n",
        "    table = str.maketrans('', '', string.punctuation)\n",
        "    tokens = [w.translate(table) for w in tokens]\n",
        "\n",
        "    #tratando caracteres especiais\n",
        "    tokens = [unidecode.unidecode(w) for w in tokens]\n",
        "\n",
        "    #selecionando apenas palavras\n",
        "    words = [word for word in tokens if word.isalpha()]\n",
        "\n",
        "    #removendo palavras com 3 ou menos caracteres\n",
        "    words = [word for word in words if len(word) > 3]\n",
        "    \n",
        "    #removendo palavras vazias\n",
        "    stop_words = set(stopwords.words('english'))\n",
        "    words = [word for word in words if not word in stop_words]\n",
        "\n",
        "    #redução de palavras\n",
        "    porter = PorterStemmer()\n",
        "    stemmedWords = [porter.stem(word) for word in words] \n",
        "\n",
        "    #transformando lista de stemmedWords em uma string\n",
        "    stringTerms = ' '.join(stemmedWords)\n",
        "\n",
        "\n",
        "\n",
        "    return stringTerms\n",
        "\n"
      ],
      "metadata": {
        "colab": {
          "base_uri": "https://localhost:8080/"
        },
        "id": "caZ4fuK08PnD",
        "outputId": "78c658f4-880a-45e0-b66b-fc8f150e0ac3"
      },
      "execution_count": 9,
      "outputs": [
        {
          "output_type": "stream",
          "name": "stderr",
          "text": [
            "[nltk_data] Downloading package stopwords to /root/nltk_data...\n",
            "[nltk_data]   Package stopwords is already up-to-date!\n",
            "[nltk_data] Downloading package punkt to /root/nltk_data...\n",
            "[nltk_data]   Package punkt is already up-to-date!\n"
          ]
        }
      ]
    },
    {
      "cell_type": "code",
      "source": [
        "#criando a lista de strings de termos\n",
        "listStringTerms = data['description'].apply(criandoLinha)"
      ],
      "metadata": {
        "id": "mzfS__fN8U9a"
      },
      "execution_count": 10,
      "outputs": []
    },
    {
      "cell_type": "code",
      "source": [
        "##construindo matriz TF-IDF\n",
        "from sklearn.feature_extraction.text import TfidfVectorizer\n",
        "vectorizer = TfidfVectorizer(min_df = 5)\n",
        "X = vectorizer.fit_transform(listStringTerms)\n",
        "X"
      ],
      "metadata": {
        "id": "hhWFq7JUcjZb",
        "colab": {
          "base_uri": "https://localhost:8080/"
        },
        "outputId": "c80b0229-530b-4f91-f8f2-420edad3b1a6"
      },
      "execution_count": 11,
      "outputs": [
        {
          "output_type": "execute_result",
          "data": {
            "text/plain": [
              "<59781x20988 sparse matrix of type '<class 'numpy.float64'>'\n",
              "\twith 2492125 stored elements in Compressed Sparse Row format>"
            ]
          },
          "metadata": {},
          "execution_count": 11
        }
      ]
    },
    {
      "cell_type": "code",
      "source": [
        "#save X and y in a file\n",
        "with open('X.pickle', 'wb') as f:\n",
        "    pickle.dump(X, f)"
      ],
      "metadata": {
        "id": "Gz9ELvZm8WWe"
      },
      "execution_count": 12,
      "outputs": []
    },
    {
      "cell_type": "code",
      "source": [
        "X = pickle.load(open('X.pickle', 'rb'))"
      ],
      "metadata": {
        "id": "wQbfYGTAd0aG"
      },
      "execution_count": 13,
      "outputs": []
    },
    {
      "cell_type": "code",
      "source": [
        "from sklearn.decomposition import TruncatedSVD\n",
        "svd = TruncatedSVD(n_components=100, random_state=3)\n",
        "X_svd = svd.fit_transform(X)"
      ],
      "metadata": {
        "id": "UzyfrEYad3Z8"
      },
      "execution_count": 14,
      "outputs": []
    },
    {
      "cell_type": "code",
      "source": [
        "svd.explained_variance_ratio_.sum()"
      ],
      "metadata": {
        "colab": {
          "base_uri": "https://localhost:8080/"
        },
        "id": "3X9fsog-d4T6",
        "outputId": "78920aae-fbef-4a84-828c-b801bb71cd4a"
      },
      "execution_count": 15,
      "outputs": [
        {
          "output_type": "execute_result",
          "data": {
            "text/plain": [
              "0.09721954036487686"
            ]
          },
          "metadata": {},
          "execution_count": 15
        }
      ]
    },
    {
      "cell_type": "code",
      "source": [
        "#plot k rank vs explained variance\n",
        "plt.plot(svd.explained_variance_ratio_.cumsum())\n",
        "plt.xlabel('k')\n",
        "plt.ylabel('explained variance')\n",
        "plt.title('k rank vs explained variance')\n",
        "plt.show()\n"
      ],
      "metadata": {
        "colab": {
          "base_uri": "https://localhost:8080/",
          "height": 295
        },
        "id": "F4cELcTHd5Xu",
        "outputId": "e420fc6b-6678-4dcd-a674-8e9042b99159"
      },
      "execution_count": 16,
      "outputs": [
        {
          "output_type": "display_data",
          "data": {
            "text/plain": [
              "<Figure size 432x288 with 1 Axes>"
            ],
            "image/png": "[encoded data removed]"
          },
          "metadata": {
            "needs_background": "light"
          }
        }
      ]
    },
    {
      "cell_type": "code",
      "source": [
        "data['genre']"
      ],
      "metadata": {
        "colab": {
          "base_uri": "https://localhost:8080/"
        },
        "id": "Xp83V24Xd6jK",
        "outputId": "3111ad94-512d-47d2-8626-71b0d3c82cda"
      },
      "execution_count": 17,
      "outputs": [
        {
          "output_type": "execute_result",
          "data": {
            "text/plain": [
              "0          drama\n",
              "1          h-t-m\n",
              "2          drama\n",
              "3          drama\n",
              "4         comedy\n",
              "          ...   \n",
              "59776      drama\n",
              "59777      h-t-m\n",
              "59778    western\n",
              "59779      drama\n",
              "59780      drama\n",
              "Name: genre, Length: 59781, dtype: object"
            ]
          },
          "metadata": {},
          "execution_count": 17
        }
      ]
    },
    {
      "cell_type": "markdown",
      "source": [
        "### Agrupamento"
      ],
      "metadata": {
        "id": "I5OYdBEnd7Rc"
      }
    },
    {
      "cell_type": "code",
      "source": [
        "#k means classifier for X_svd\n",
        "from sklearn.cluster import KMeans\n",
        "kmeans = KMeans(n_clusters=3, random_state=45).fit(X_svd)\n",
        "y_kmeans = kmeans.predict(X_svd)\n",
        "\n",
        "#ploting the number of movies in each genre\n",
        "pd.Series(y_kmeans).value_counts().plot(kind='bar', title='Number of movies in each genre')"
      ],
      "metadata": {
        "colab": {
          "base_uri": "https://localhost:8080/",
          "height": 295
        },
        "id": "CrVlfFw7d-OS",
        "outputId": "4b7b38d1-0163-4e48-eb2a-0679af80e31b"
      },
      "execution_count": 18,
      "outputs": [
        {
          "output_type": "execute_result",
          "data": {
            "text/plain": [
              "<matplotlib.axes._subplots.AxesSubplot at 0x7fde21140b20>"
            ]
          },
          "metadata": {},
          "execution_count": 18
        },
        {
          "output_type": "display_data",
          "data": {
            "text/plain": [
              "<Figure size 432x288 with 1 Axes>"
            ],
            "image/png": "[encoded data removed]"
          },
          "metadata": {
            "needs_background": "light"
          }
        }
      ]
    },
    {
      "cell_type": "markdown",
      "source": [
        "####Validando o agrupamento em matriz de distâncias"
      ],
      "metadata": {
        "id": "f4zaMhIGGm_c"
      }
    },
    {
      "cell_type": "code",
      "source": [
        "#plot both count plots of genre on top of each other\n",
        "fig, ax = plt.subplots(1,2, figsize=(15,5))\n",
        "data['genre'].value_counts().plot(kind='bar', title='Number of movies in each genre', ax=ax[0])\n",
        "pd.Series(y_kmeans).value_counts().plot(kind='bar', title='Number of movies in each genre', ax=ax[1])\n",
        "plt.show()"
      ],
      "metadata": {
        "colab": {
          "base_uri": "https://localhost:8080/",
          "height": 369
        },
        "id": "6w8H5_uEeWMY",
        "outputId": "4500d02d-587e-4628-bf4e-291cbc7e9b91"
      },
      "execution_count": 19,
      "outputs": [
        {
          "output_type": "display_data",
          "data": {
            "text/plain": [
              "<Figure size 1080x360 with 2 Axes>"
            ],
            "image/png": "[encoded data removed]"
          },
          "metadata": {
            "needs_background": "light"
          }
        }
      ]
    },
    {
      "cell_type": "code",
      "source": [
        "#nao funciona estoura memoria\n",
        "\n",
        "import seaborn as sns\n",
        "import sklearn.metrics as metrics\n",
        "\n",
        "euclidean_dists = metrics.euclidean_distances(X_svd)\n",
        "sns.heatmap(euclidean_dists, xticklabels=False, yticklabels=False, linewidths=0, square=True );"
      ],
      "metadata": {
        "id": "RwSicyH3CmJo"
      },
      "execution_count": null,
      "outputs": []
    },
    {
      "cell_type": "code",
      "source": [
        "import numpy as np\n",
        "\n",
        "labels = kmeans.labels_\n",
        "idx = np.argsort(labels)\n",
        "rearranged_dists = euclidean_dists[idx,:][:,idx]\n",
        "sns.heatmap(rearranged_dists, xticklabels = False, yticklabels = False, linewidths = 0, square = True);"
      ],
      "metadata": {
        "colab": {
          "base_uri": "https://localhost:8080/",
          "height": 217
        },
        "id": "pV08MuVeCo7d",
        "outputId": "303bc4f3-b0f5-421d-98d5-aadd671fe9ec"
      },
      "execution_count": 21,
      "outputs": [
        {
          "output_type": "error",
          "ename": "IndexError",
          "evalue": "ignored",
          "traceback": [
            "\u001b[0;31m---------------------------------------------------------------------------\u001b[0m",
            "\u001b[0;31mIndexError\u001b[0m                                Traceback (most recent call last)",
            "\u001b[0;32m<ipython-input-21-0d853b2303b4>\u001b[0m in \u001b[0;36m<module>\u001b[0;34m\u001b[0m\n\u001b[1;32m      3\u001b[0m \u001b[0mlabels\u001b[0m \u001b[0;34m=\u001b[0m \u001b[0mkmeans\u001b[0m\u001b[0;34m.\u001b[0m\u001b[0mlabels_\u001b[0m\u001b[0;34m\u001b[0m\u001b[0;34m\u001b[0m\u001b[0m\n\u001b[1;32m      4\u001b[0m \u001b[0midx\u001b[0m \u001b[0;34m=\u001b[0m \u001b[0mnp\u001b[0m\u001b[0;34m.\u001b[0m\u001b[0margsort\u001b[0m\u001b[0;34m(\u001b[0m\u001b[0mlabels\u001b[0m\u001b[0;34m)\u001b[0m\u001b[0;34m\u001b[0m\u001b[0;34m\u001b[0m\u001b[0m\n\u001b[0;32m----> 5\u001b[0;31m \u001b[0mrearranged_dists\u001b[0m \u001b[0;34m=\u001b[0m \u001b[0mX_svd\u001b[0m\u001b[0;34m[\u001b[0m\u001b[0midx\u001b[0m\u001b[0;34m,\u001b[0m\u001b[0;34m:\u001b[0m\u001b[0;34m]\u001b[0m\u001b[0;34m[\u001b[0m\u001b[0;34m:\u001b[0m\u001b[0;34m,\u001b[0m\u001b[0midx\u001b[0m\u001b[0;34m]\u001b[0m\u001b[0;34m\u001b[0m\u001b[0;34m\u001b[0m\u001b[0m\n\u001b[0m\u001b[1;32m      6\u001b[0m \u001b[0msns\u001b[0m\u001b[0;34m.\u001b[0m\u001b[0mheatmap\u001b[0m\u001b[0;34m(\u001b[0m\u001b[0mrearranged_dists\u001b[0m\u001b[0;34m,\u001b[0m \u001b[0mxticklabels\u001b[0m \u001b[0;34m=\u001b[0m \u001b[0;32mFalse\u001b[0m\u001b[0;34m,\u001b[0m \u001b[0myticklabels\u001b[0m \u001b[0;34m=\u001b[0m \u001b[0;32mFalse\u001b[0m\u001b[0;34m,\u001b[0m \u001b[0mlinewidths\u001b[0m \u001b[0;34m=\u001b[0m \u001b[0;36m0\u001b[0m\u001b[0;34m,\u001b[0m \u001b[0msquare\u001b[0m \u001b[0;34m=\u001b[0m \u001b[0;32mTrue\u001b[0m\u001b[0;34m)\u001b[0m\u001b[0;34m;\u001b[0m\u001b[0;34m\u001b[0m\u001b[0;34m\u001b[0m\u001b[0m\n",
            "\u001b[0;31mIndexError\u001b[0m: index 29336 is out of bounds for axis 1 with size 150"
          ]
        }
      ]
    },
    {
      "cell_type": "code",
      "source": [
        "#create a dataframe with y_kmeans\n",
        "y_kmeans_df = pd.DataFrame(y_kmeans, columns=['genre'])\n",
        "values_counts = pd.Series(y_kmeans).value_counts()\n",
        "values_counts"
      ],
      "metadata": {
        "colab": {
          "base_uri": "https://localhost:8080/"
        },
        "id": "nj24jgk9eZyu",
        "outputId": "a070327a-7f0c-4bc4-c397-cf65d45969c1"
      },
      "execution_count": 20,
      "outputs": [
        {
          "output_type": "execute_result",
          "data": {
            "text/plain": [
              "2    32502\n",
              "0    18949\n",
              "1     8330\n",
              "dtype: int64"
            ]
          },
          "metadata": {},
          "execution_count": 20
        }
      ]
    },
    {
      "cell_type": "code",
      "source": [
        "totalMovies = data['genre'].value_counts()"
      ],
      "metadata": {
        "id": "c5FC_SjNTuak"
      },
      "execution_count": 46,
      "outputs": []
    },
    {
      "cell_type": "code",
      "source": [
        "grupoZero = y_kmeans_df[y_kmeans_df['genre'] == 0]\n",
        "grupoUm = y_kmeans_df[y_kmeans_df['genre'] == 1]\n",
        "grupoDois = y_kmeans_df[y_kmeans_df['genre'] == 2]\n",
        "\n",
        "\n",
        "def genreByGroup(grupo):\n",
        "  listCont = [0,0,0,0,0,0,0,0]\n",
        "  genreList = ['drama', 'comedy','h-t-m','action','s-f','western','romance','music']\n",
        "\n",
        "  for row in grupo.index:\n",
        "      genreGroup = data.loc[row]['genre']\n",
        "      for i in range(0,len(genreList)):\n",
        "        if genreList[i] == genreGroup:\n",
        "          listCont[i] += 1\n",
        "\n",
        "  # Tentando normalizar, ta certo isso?\n",
        "  for i in range(0,8):\n",
        "    listCont[i] = listCont[i]/totalMovies[genreList[i]]\n",
        "\n",
        "  print(listCont)\n",
        "  plt.bar(genreList,listCont,width = 0.8)\n",
        "  plt.show()"
      ],
      "metadata": {
        "id": "4eYGGINqHGA3"
      },
      "execution_count": 47,
      "outputs": []
    },
    {
      "cell_type": "code",
      "source": [
        "genreByGroup(grupoZero)"
      ],
      "metadata": {
        "colab": {
          "base_uri": "https://localhost:8080/",
          "height": 282
        },
        "id": "R1j2N_l1RvG1",
        "outputId": "f4613a71-a3c3-4fa9-eb31-64fbb51c3c01"
      },
      "execution_count": 48,
      "outputs": [
        {
          "output_type": "stream",
          "name": "stdout",
          "text": [
            "[0.4573737373737374, 0.24582018397905056, 0.17286652078774617, 0.09775580068467098, 0.0913312693498452, 0.05184108527131783, 0.6287202380952381, 0.019151846785225718]\n"
          ]
        },
        {
          "output_type": "display_data",
          "data": {
            "text/plain": [
              "<Figure size 432x288 with 1 Axes>"
            ],
            "image/png": "[encoded data removed]"
          },
          "metadata": {
            "needs_background": "light"
          }
        }
      ]
    },
    {
      "cell_type": "code",
      "source": [
        "genreByGroup(grupoUm)"
      ],
      "metadata": {
        "colab": {
          "base_uri": "https://localhost:8080/",
          "height": 282
        },
        "id": "KNQi3PXVTC7Z",
        "outputId": "82273dc5-6dcd-4833-f12d-f690f1264e71"
      },
      "execution_count": 49,
      "outputs": [
        {
          "output_type": "stream",
          "name": "stdout",
          "text": [
            "[0.11078053259871441, 0.18693345867185926, 0.09299781181619256, 0.07265119817421073, 0.09391124871001032, 0.02616279069767442, 0.08854166666666667, 0.8337893296853626]\n"
          ]
        },
        {
          "output_type": "display_data",
          "data": {
            "text/plain": [
              "<Figure size 432x288 with 1 Axes>"
            ],
            "image/png": "[encoded data removed]"
          },
          "metadata": {
            "needs_background": "light"
          }
        }
      ]
    },
    {
      "cell_type": "code",
      "source": [
        "genreByGroup(grupoDois)"
      ],
      "metadata": {
        "colab": {
          "base_uri": "https://localhost:8080/",
          "height": 282
        },
        "id": "dBmsw2RlTDP3",
        "outputId": "37934ab2-98e4-476b-d4b2-7bf21031fbaf"
      },
      "execution_count": 50,
      "outputs": [
        {
          "output_type": "stream",
          "name": "stdout",
          "text": [
            "[0.4318457300275482, 0.5672463573490901, 0.7341356673960613, 0.8295930011411183, 0.8147574819401445, 0.9219961240310077, 0.28273809523809523, 0.14705882352941177]\n"
          ]
        },
        {
          "output_type": "display_data",
          "data": {
            "text/plain": [
              "<Figure size 432x288 with 1 Axes>"
            ],
            "image/png": "[encoded data removed]"
          },
          "metadata": {
            "needs_background": "light"
          }
        }
      ]
    },
    {
      "cell_type": "markdown",
      "source": [
        "### Agrupamento Hierárquico\n"
      ],
      "metadata": {
        "id": "UUJZwgaHqO_J"
      }
    },
    {
      "cell_type": "code",
      "source": [
        "from sklearn.cluster import AgglomerativeClustering\n",
        "\n",
        "m = AgglomerativeClustering(n_clusters = 6, linkage = 'average')\n",
        "m.fit(X_svd)"
      ],
      "metadata": {
        "id": "qK-rn6ccgqLH"
      },
      "execution_count": null,
      "outputs": []
    },
    {
      "cell_type": "code",
      "source": [
        "#m.labels_\n",
        "np.unique(m.labels_)\n"
      ],
      "metadata": {
        "id": "Ha-8V5Aei_ew",
        "colab": {
          "base_uri": "https://localhost:8080/"
        },
        "outputId": "10a70ba2-618c-407f-f59f-c97053aeb641"
      },
      "execution_count": null,
      "outputs": [
        {
          "output_type": "execute_result",
          "data": {
            "text/plain": [
              "array([0, 1, 2, 3, 4, 5])"
            ]
          },
          "metadata": {},
          "execution_count": 23
        }
      ]
    },
    {
      "cell_type": "code",
      "source": [
        "#plot both count plots of genre on top of each other\n",
        "fig, ax = plt.subplots(1,2, figsize=(15,5))\n",
        "data['genre'].value_counts().plot(kind='bar', title='Number of movies in each genre', ax=ax[0])\n",
        "pd.Series(m.labels_).value_counts().plot(kind='bar', title='Number of movies in each genre', ax=ax[1])\n",
        "plt.show()"
      ],
      "metadata": {
        "id": "qlYN50DTj8S9",
        "colab": {
          "base_uri": "https://localhost:8080/",
          "height": 369
        },
        "outputId": "835e1aa9-b6c6-49ac-a953-cb4ffc434e0b"
      },
      "execution_count": null,
      "outputs": [
        {
          "output_type": "display_data",
          "data": {
            "text/plain": [
              "<Figure size 1080x360 with 2 Axes>"
            ],
            "image/png": "[encoded data removed]"
          },
          "metadata": {
            "needs_background": "light"
          }
        }
      ]
    },
    {
      "cell_type": "code",
      "source": [
        "y_ah_df = pd.DataFrame(m.labels_, columns=['genre'])\n",
        "values_counts = pd.Series(m.labels_).value_counts()\n",
        "values_counts"
      ],
      "metadata": {
        "id": "BagXyMwirt00",
        "colab": {
          "base_uri": "https://localhost:8080/"
        },
        "outputId": "08ad400b-58a1-48db-86e9-d063f8bacff2"
      },
      "execution_count": null,
      "outputs": [
        {
          "output_type": "execute_result",
          "data": {
            "text/plain": [
              "1    28820\n",
              "0      991\n",
              "2       76\n",
              "4        4\n",
              "3        2\n",
              "5        1\n",
              "dtype: int64"
            ]
          },
          "metadata": {},
          "execution_count": 25
        }
      ]
    },
    {
      "cell_type": "markdown",
      "source": [
        "### Agrupamento Espectral"
      ],
      "metadata": {
        "id": "sqNCH8l_qU_n"
      }
    },
    {
      "cell_type": "code",
      "source": [
        "from sklearn.cluster import SpectralClustering\n",
        "\n",
        "m = SpectralClustering(n_clusters = 6, affinity = 'nearest_neighbors', n_neighbors = 10)\n",
        "#m = SpectralClustering(n_clusters = 3)\n",
        "m.fit(X_svd)"
      ],
      "metadata": {
        "colab": {
          "base_uri": "https://localhost:8080/"
        },
        "id": "lYe3EGuY2tFD",
        "outputId": "3604e366-fcec-43a5-eee8-8f0cff808a38"
      },
      "execution_count": null,
      "outputs": [
        {
          "output_type": "stream",
          "name": "stderr",
          "text": [
            "/usr/local/lib/python3.8/dist-packages/sklearn/manifold/_spectral_embedding.py:260: UserWarning: Graph is not fully connected, spectral embedding may not work as expected.\n",
            "  warnings.warn(\n"
          ]
        },
        {
          "output_type": "execute_result",
          "data": {
            "text/plain": [
              "SpectralClustering(affinity='nearest_neighbors')"
            ]
          },
          "metadata": {},
          "execution_count": 26
        }
      ]
    },
    {
      "cell_type": "code",
      "source": [
        "#plot both count plots of genre on top of each other\n",
        "fig, ax = plt.subplots(1,2, figsize=(15,5))\n",
        "data['genre'].value_counts().plot(kind='bar', title='Number of movies in each genre', ax=ax[0])\n",
        "pd.Series(m.labels_).value_counts().plot(kind='bar', title='Number of movies in each genre', ax=ax[1])\n",
        "plt.show()"
      ],
      "metadata": {
        "colab": {
          "base_uri": "https://localhost:8080/",
          "height": 369
        },
        "id": "Wt1_MRrD2u8R",
        "outputId": "566363ae-f52b-4d80-d3e6-7c2617a66bce"
      },
      "execution_count": null,
      "outputs": [
        {
          "output_type": "display_data",
          "data": {
            "text/plain": [
              "<Figure size 1080x360 with 2 Axes>"
            ],
            "image/png": "[encoded data removed]"
          },
          "metadata": {
            "needs_background": "light"
          }
        }
      ]
    },
    {
      "cell_type": "code",
      "source": [
        "y_sc_df = pd.DataFrame(m.labels_, columns=['genre'])\n",
        "values_counts = pd.Series(m.labels_).value_counts()\n",
        "values_counts"
      ],
      "metadata": {
        "colab": {
          "base_uri": "https://localhost:8080/"
        },
        "id": "w58KDxlqFI_o",
        "outputId": "c252d913-e9b3-4fa5-8d2e-c919d0da9041"
      },
      "execution_count": null,
      "outputs": [
        {
          "output_type": "execute_result",
          "data": {
            "text/plain": [
              "0    11952\n",
              "1    11700\n",
              "7     2864\n",
              "5     2469\n",
              "6      599\n",
              "4      253\n",
              "2       39\n",
              "3       18\n",
              "dtype: int64"
            ]
          },
          "metadata": {},
          "execution_count": 28
        }
      ]
    }
  ]
}